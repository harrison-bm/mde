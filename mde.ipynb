{
 "cells": [
  {
   "cell_type": "code",
   "execution_count": null,
   "id": "bc73e769-e5b3-4e41-b56c-8c27b65997fe",
   "metadata": {},
   "outputs": [],
   "source": [
    "import pandas as pd\n",
    "import numpy as np\n",
    "import math\n",
    "import os\n",
    "import seaborn as sns\n",
    "import matplotlib.pyplot as plt\n",
    "import re\n",
    "\n",
    "from sklearn.datasets import load_digits\n",
    "from scipy.stats import chi2_contingency\n",
    "\n",
    "from sklearn.model_selection import train_test_split\n",
    "from sklearn.metrics import confusion_matrix\n",
    "from sklearn.metrics import accuracy_score\n",
    "from sklearn.metrics import classification_report\n",
    "from sklearn.preprocessing import OneHotEncoder\n",
    "from sklearn.preprocessing import MinMaxScaler\n",
    "from xgboost import XGBClassifier\n",
    "\n",
    "## Select K-Best\n",
    "from sklearn.feature_selection import SelectKBest\n",
    "## f_regression\n",
    "from sklearn.feature_selection import f_regression\n",
    "from sklearn.feature_selection import chi2\n",
    "from sklearn.feature_selection import mutual_info_classif\n",
    "from sklearn.feature_selection import mutual_info_regression\n",
    "from sklearn.feature_selection import f_classif\n",
    "from sklearn.metrics import precision_recall_fscore_support\n",
    "\n",
    "from xgboost import XGBClassifier\n",
    "from sklearn import svm\n",
    "from sklearn.ensemble import RandomForestClassifier\n",
    "from sklearn.datasets import make_classification\n",
    "from sklearn.neighbors import KNeighborsClassifier\n",
    "from sklearn.feature_selection import RFE\n",
    "from sklearn.linear_model import LogisticRegression\n",
    "from sklearn.linear_model import LinearRegression\n",
    "from sklearn.tree import DecisionTreeClassifier\n",
    "from sklearn.feature_selection import VarianceThreshold"
   ]
  },
  {
   "cell_type": "markdown",
   "id": "91b1c1ff-a3fa-4d09-835f-935c89917e95",
   "metadata": {},
   "source": [
    "##### Função para criação da característica faixa_etaria"
   ]
  },
  {
   "cell_type": "code",
   "execution_count": null,
   "id": "bace4666-014b-42d9-92be-f73a059fe1d3",
   "metadata": {},
   "outputs": [],
   "source": [
    "def faixa_etaria_ibge(x):\n",
    "    if x < 20:\n",
    "        return '19 ou menos'\n",
    "    elif x < 25:\n",
    "        return 'Entre 20 e 24'\n",
    "    elif x < 30:\n",
    "        return 'Entre 25 e 29'\n",
    "    elif x < 35:\n",
    "        return 'Entre 30 e 34'\n",
    "    elif x < 40:\n",
    "        return 'Entre 35 e 39'\n",
    "    elif x < 45:\n",
    "        return 'Entre 40 e 44'\n",
    "    elif x < 50:\n",
    "        return 'Entre 45 e 49'\n",
    "    elif x < 55:\n",
    "        return 'Entre 50 e 54'\n",
    "    elif x < 60:\n",
    "        return 'Entre 55 e 59'\n",
    "    elif x < 65:\n",
    "        return 'Entre 60 e 64'\n",
    "    elif x < 70:\n",
    "        return 'Entre 65 e 69'\n",
    "    elif x < 75:\n",
    "        return 'Entre 70 e 74'\n",
    "    else:\n",
    "        return 'Mais de 75'"
   ]
  },
  {
   "cell_type": "code",
   "execution_count": null,
   "id": "43bfb9cc-8c64-43b8-bb0f-1087ba4fafd2",
   "metadata": {},
   "outputs": [],
   "source": [
    "def corrige_media(x, y):\n",
    "    if (x > 10) & (x <= 20):\n",
    "        return y\n",
    "    elif (x > 20) & (x < 50):\n",
    "        return x*2/10\n",
    "    elif (x >= 50) & (x <= 100):\n",
    "        return x/10\n",
    "    elif (x > 100) & (x <= 500):\n",
    "        return y\n",
    "    elif (x > 500) & (x <= 1000):\n",
    "        return x/100\n",
    "    elif (x > 1000) & (x <= 10000):\n",
    "        return x/1000\n",
    "    elif (x > 10000):\n",
    "        return y\n",
    "    else:\n",
    "        return x"
   ]
  },
  {
   "cell_type": "markdown",
   "id": "1326cd70-7b5d-41c4-8072-32748707d9c5",
   "metadata": {},
   "source": [
    "##### Função para realizar o teste de predição com os algoritmos de aprendizado de máquina"
   ]
  },
  {
   "cell_type": "code",
   "execution_count": null,
   "id": "ddf9455e-1d5f-4b23-a8c7-bbad2408f51f",
   "metadata": {},
   "outputs": [],
   "source": [
    "def preditor_teste(x, y):\n",
    "\n",
    "    X_0, X_1, y_0, y_1 = train_test_split(x, y, random_state=0, test_size=0.25)\n",
    "    \n",
    "    algoritmo = XGBClassifier(learning_rate=0.1, n_estimators=100, random_state=0)\n",
    "    \n",
    "    algoritmo.fit(X_0, y_0)\n",
    "    \n",
    "    pred_treino = algoritmo.predict(X_0)\n",
    "    pred_teste = algoritmo.predict(X_1)\n",
    "    \n",
    "    print('XGBoost\\n')\n",
    "    \n",
    "    print(classification_report(y_1, pred_teste))\n",
    "\n",
    "    #sns.heatmap(confusion_matrix(y_1, pred_teste), annot=True, cmap='Blues', fmt='')\n",
    "    \n",
    "    algoritmo = LogisticRegression(C=0.1, max_iter=1000)\n",
    "\n",
    "    algoritmo.fit(X_0, y_0)\n",
    "    \n",
    "    pred_treino = algoritmo.predict(X_0)\n",
    "    pred_teste = algoritmo.predict(X_1)\n",
    "    \n",
    "    print('Regressão Logística\\n')\n",
    "    \n",
    "    print(classification_report(y_1, pred_teste))\n",
    "\n",
    "    #sns.heatmap(confusion_matrix(y_1, pred_teste), annot=True, cmap='Blues', fmt='')\n",
    "\n",
    "    algoritmo = RandomForestClassifier(max_depth=3, random_state=0)\n",
    "    \n",
    "    algoritmo.fit(X_0, y_0)\n",
    "    \n",
    "    pred_treino = algoritmo.predict(X_0)\n",
    "    pred_teste = algoritmo.predict(X_1)\n",
    "    \n",
    "    print('Random Forest\\n')\n",
    "    \n",
    "    print(classification_report(y_1, pred_teste))\n",
    "\n",
    "    #sns.heatmap(confusion_matrix(y_1, pred_teste), annot=True, cmap='Blues', fmt='')\n",
    "    \n",
    "    algoritmo = svm.SVC()\n",
    "    \n",
    "    algoritmo.fit(X_0, y_0)\n",
    "    \n",
    "    pred_treino = algoritmo.predict(X_0)\n",
    "    pred_teste = algoritmo.predict(X_1)\n",
    "    \n",
    "    print('Support Vector Machine\\n')\n",
    "    \n",
    "    print(classification_report(y_1, pred_teste))\n",
    "\n",
    "    #sns.heatmap(confusion_matrix(y_1, pred_teste), annot=True, cmap='Blues', fmt='')\n",
    "    \n",
    "    algoritmo = KNeighborsClassifier(n_neighbors=5)\n",
    "    \n",
    "    algoritmo.fit(X_0, y_0)\n",
    "    \n",
    "    pred_treino = algoritmo.predict(X_0)\n",
    "    pred_teste = algoritmo.predict(X_1)\n",
    "    \n",
    "    print('K-Nearest Neighbors \\n')\n",
    "    \n",
    "    print(classification_report(y_1, pred_teste))\n",
    "\n",
    "    #sns.heatmap(confusion_matrix(y_1, pred_teste), annot=True, cmap='Blues', fmt='')\n",
    "    \n",
    "    algoritmo = DecisionTreeClassifier()\n",
    "    algoritmo.fit(X_0, y_0)\n",
    "    \n",
    "    pred_treino = algoritmo.predict(X_0)\n",
    "    pred_teste = algoritmo.predict(X_1)\n",
    "    \n",
    "    print('Árvore de Decisão \\n')\n",
    "    \n",
    "    print(classification_report(y_1, pred_teste))\n",
    "\n",
    "    #sns.heatmap(confusion_matrix(y_1, pred_teste), annot=True, cmap='Blues', fmt='')"
   ]
  },
  {
   "cell_type": "code",
   "execution_count": null,
   "id": "a7e2471a-b497-4ec0-b3fd-0eb93e0e026b",
   "metadata": {},
   "outputs": [],
   "source": [
    "df_a = pd.read_csv('dataset_alunos.csv', low_memory=False)"
   ]
  },
  {
   "cell_type": "code",
   "execution_count": null,
   "id": "64045397-a81a-45fd-9a54-e9b64c028628",
   "metadata": {},
   "outputs": [],
   "source": [
    "df_a.drop('Unnamed: 0', axis=1, inplace=True)"
   ]
  },
  {
   "cell_type": "code",
   "execution_count": null,
   "id": "57d4a511-b43d-4e11-a4ef-3471fc19575d",
   "metadata": {},
   "outputs": [],
   "source": [
    "df_a.columns"
   ]
  },
  {
   "cell_type": "markdown",
   "id": "2fdc3778-64da-4f33-ba32-590f1c51af6e",
   "metadata": {},
   "source": [
    "##### Criação da característica faixa_etaria"
   ]
  },
  {
   "cell_type": "code",
   "execution_count": null,
   "id": "fc9e6563-fcc3-4953-be3a-0822249d3af5",
   "metadata": {},
   "outputs": [],
   "source": [
    "df_a['faixa_etaria'] = df_a['idade'].apply(faixa_etaria)"
   ]
  },
  {
   "cell_type": "markdown",
   "id": "63600919-f8e9-4ccf-849b-ccf3ed112edd",
   "metadata": {},
   "source": [
    "##### Colunas que passarão pelo processo de one hot encoding"
   ]
  },
  {
   "cell_type": "code",
   "execution_count": null,
   "id": "838a36e8-e0c3-4a9d-981a-5d96699d6384",
   "metadata": {},
   "outputs": [],
   "source": [
    "colunas_alunos = ['cod_curso', 'rendaf', 'rendai', \n",
    "                  'escolapai', 'escolamae', 'superior', \n",
    "                  'faixa_etaria', 'genero', 'unidadeensino', 'estado_civil',\n",
    "                  'etnia', 'trajetoria', 'participacaof', 'atividadep']"
   ]
  },
  {
   "cell_type": "code",
   "execution_count": null,
   "id": "7dcdb500-0718-46f7-9ade-e0f6f5ddb7ea",
   "metadata": {},
   "outputs": [],
   "source": [
    "df_alunos = pd.get_dummies(df_a[colunas_alunos], columns=colunas_alunos)"
   ]
  },
  {
   "cell_type": "code",
   "execution_count": null,
   "id": "3217eb15-29b0-4a4e-95df-7ed3f5572c68",
   "metadata": {},
   "outputs": [],
   "source": [
    "df_alunos['situacao'] = pd.Series(df_a['situacao'])\n",
    "df_alunos['matricula'] = pd.Series(df_a['cod_matricula'])"
   ]
  },
  {
   "cell_type": "markdown",
   "id": "98e6fe66-3df2-464f-b2b7-f04105859525",
   "metadata": {},
   "source": [
    "##### Selecionando Evadidos e Não-Evadidos"
   ]
  },
  {
   "cell_type": "code",
   "execution_count": null,
   "id": "4469634c-a7f2-41bc-ba29-4f57cbe6e809",
   "metadata": {},
   "outputs": [],
   "source": [
    "df_formados = pd.DataFrame(df_alunos[(df_alunos['situacao'] == 'FO') | (df_alunos['situacao'] == 'FI')])\n",
    "df_evadidos = pd.DataFrame(df_alunos[(df_alunos['situacao'] == 'CA')])\n",
    "\n",
    "df_formados.drop('situacao', axis=1, inplace=True)\n",
    "df_evadidos.drop('situacao', axis=1, inplace=True)\n",
    "df_formados.drop('matricula', axis=1, inplace=True)\n",
    "df_evadidos.drop('matricula', axis=1, inplace=True)\n",
    "\n",
    "df_formados['label'] = 0\n",
    "df_evadidos['label'] = 1"
   ]
  },
  {
   "cell_type": "code",
   "execution_count": null,
   "id": "904b1dd6-0c34-43e9-8935-ae2abfb53cc2",
   "metadata": {},
   "outputs": [],
   "source": [
    "len(df_formados),len(df_evadidos)"
   ]
  },
  {
   "cell_type": "markdown",
   "id": "80345553-c371-4021-a959-7f6b5ab55623",
   "metadata": {},
   "source": [
    "##### Concatenando dataset com números iguais de amostras em ambas as classes"
   ]
  },
  {
   "cell_type": "code",
   "execution_count": null,
   "id": "d33f1e7e-4a5a-4a0d-89bd-d53189dbbfb5",
   "metadata": {},
   "outputs": [],
   "source": [
    "df = pd.concat([df_formados.sample(len(df_formados), random_state=0), df_evadidos.sample(len(df_formados), random_state=0)], axis=0)"
   ]
  },
  {
   "cell_type": "code",
   "execution_count": null,
   "id": "56113341-80e2-42b6-850e-4b0c515d1684",
   "metadata": {},
   "outputs": [],
   "source": [
    "x = df.drop('label', axis=1)\n",
    "y = df['label']"
   ]
  },
  {
   "cell_type": "code",
   "execution_count": null,
   "id": "723c6d84-c28c-4b0e-a4a0-999d7c645bd6",
   "metadata": {},
   "outputs": [],
   "source": [
    "del(df)"
   ]
  },
  {
   "cell_type": "markdown",
   "id": "0ad05b59-2564-4ebc-9f79-0e95a4e4db0c",
   "metadata": {},
   "source": [
    "##### Eliminando características constantes"
   ]
  },
  {
   "cell_type": "code",
   "execution_count": null,
   "id": "7db60312-dfa1-4b09-914a-822db31d1ce2",
   "metadata": {},
   "outputs": [],
   "source": [
    "var_thr = VarianceThreshold(threshold = 0)\n",
    "var_thr.fit(x)"
   ]
  },
  {
   "cell_type": "code",
   "execution_count": null,
   "id": "ce1f22ec-46d5-4502-82fa-61d27d753fff",
   "metadata": {},
   "outputs": [],
   "source": [
    "concol = [column for column in x.columns if column not in x.columns[var_thr.get_support()]]"
   ]
  },
  {
   "cell_type": "code",
   "execution_count": null,
   "id": "a3cc55f6-7530-4775-bc39-9f0d0475f9aa",
   "metadata": {},
   "outputs": [],
   "source": [
    "len(concol)/len(x.columns)*100 # Percentual de colunas constantes"
   ]
  },
  {
   "cell_type": "code",
   "execution_count": null,
   "id": "836dfa14-670e-4bc0-af9f-2a0aa2e70a96",
   "metadata": {},
   "outputs": [],
   "source": [
    "x.drop(concol,axis=1, inplace=True)"
   ]
  },
  {
   "cell_type": "code",
   "execution_count": null,
   "id": "28300535-8681-4c91-aea1-11aedf86e1be",
   "metadata": {},
   "outputs": [],
   "source": [
    "len(x.columns)"
   ]
  },
  {
   "cell_type": "markdown",
   "id": "d527967e-87fd-43b7-acc5-0ff17f3b4714",
   "metadata": {},
   "source": [
    "##### Estudo de Caso 1 - teste com o Conjunto de Dados 1"
   ]
  },
  {
   "cell_type": "code",
   "execution_count": null,
   "id": "0675eda6-95a2-4a86-a4a1-78a27903896b",
   "metadata": {},
   "outputs": [],
   "source": [
    "preditor_teste(x,y)"
   ]
  },
  {
   "cell_type": "markdown",
   "id": "d100fad3-3771-42ac-ab28-288b41ab0547",
   "metadata": {},
   "source": [
    "### Carregando dados do histórico do estudante"
   ]
  },
  {
   "cell_type": "code",
   "execution_count": null,
   "id": "5f1bcaf7-d089-427f-8536-e97ae3f60923",
   "metadata": {},
   "outputs": [],
   "source": [
    "df_historico = pd.read_csv('univesp/df_aluno_historico_full.csv', low_memory=False)"
   ]
  },
  {
   "cell_type": "markdown",
   "id": "f9bb31dc-4725-4886-8e80-7e70c85e44e8",
   "metadata": {},
   "source": [
    "##### Remove as disciplinas que não possuem nota avaliativa - NaN(ex.: estágios)"
   ]
  },
  {
   "cell_type": "code",
   "execution_count": null,
   "id": "bd4e3705-97de-4669-9ec6-1f00ab98419c",
   "metadata": {},
   "outputs": [],
   "source": [
    "df_h = pd.DataFrame(df_historico[~df_historico['mediafinal'].isna()])\n",
    "df_h.reset_index(inplace=True)"
   ]
  },
  {
   "cell_type": "markdown",
   "id": "47e56994-d9a6-4f52-a96d-99760168aa4b",
   "metadata": {},
   "source": [
    "##### Análise das disciplinas"
   ]
  },
  {
   "cell_type": "code",
   "execution_count": null,
   "id": "615f5c22-c013-40aa-82c1-912fc933e3a9",
   "metadata": {},
   "outputs": [],
   "source": [
    "df_h.columns, df_a.columns"
   ]
  },
  {
   "cell_type": "code",
   "execution_count": null,
   "id": "7bc16519-3a6d-4abe-bea5-72b1e7e54e71",
   "metadata": {},
   "outputs": [],
   "source": [
    "df_ah = df_a.merge(df_h, left_on = 'cod_matricula', right_on = 'matricula', how='inner')"
   ]
  },
  {
   "cell_type": "code",
   "execution_count": null,
   "id": "39e55ad8-042f-491e-84fe-9594b7bfef3e",
   "metadata": {},
   "outputs": [],
   "source": [
    "df_h.sit_disciplina.unique()"
   ]
  },
  {
   "cell_type": "code",
   "execution_count": null,
   "id": "353045cb-a0c0-4003-bdfe-2d17098617eb",
   "metadata": {},
   "outputs": [],
   "source": [
    "disciplinas_total = df_ah[['disciplina', 'curso', 'matricula']][(df_ah['periodo_grade'] == 1)].groupby(['disciplina','curso']).count().reset_index()"
   ]
  },
  {
   "cell_type": "code",
   "execution_count": null,
   "id": "672091d7-bdca-45ff-9558-fefc547ff797",
   "metadata": {},
   "outputs": [],
   "source": [
    "disciplinas_formados = df_ah[['disciplina', 'curso', 'matricula']][(df_ah['periodo_grade'] == 1) & ((df_ah['situacao'] == 'FO') | (df_ah['situacao'] == 'FI'))].groupby(['disciplina','curso']).count().reset_index()"
   ]
  },
  {
   "cell_type": "code",
   "execution_count": null,
   "id": "8623c030-33c9-4637-a270-a287745b25ad",
   "metadata": {},
   "outputs": [],
   "source": [
    "disciplinas_evadidos = df_ah[['disciplina', 'curso', 'matricula']][(df_ah['periodo_grade'] == 1) & ((df_ah['situacao'] == 'CA'))].groupby(['disciplina','curso']).count().reset_index()"
   ]
  },
  {
   "cell_type": "code",
   "execution_count": null,
   "id": "6d64e567-ad9e-4f7f-bd32-7575fc85b970",
   "metadata": {},
   "outputs": [],
   "source": [
    "disciplinas_formados_reprovado = df_ah[['disciplina', 'curso', 'matricula']][(df_ah['periodo_grade'] == 1) & ((df_ah['situacao'] == 'FO') | (df_ah['situacao'] == 'FI')) & (df_ah['sit_disciplina'] == 'RE')].groupby(['disciplina','curso']).count().reset_index()"
   ]
  },
  {
   "cell_type": "code",
   "execution_count": null,
   "id": "26dcb638-a213-4557-9ead-46976f105c90",
   "metadata": {},
   "outputs": [],
   "source": [
    "disciplinas_evadidos_reprovado = df_ah[['disciplina', 'curso', 'matricula']][(df_ah['periodo_grade'] == 1) & (df_ah['situacao'] == 'CA') & (df_ah['sit_disciplina'] == 'RE')].groupby(['disciplina','curso']).count().reset_index()"
   ]
  },
  {
   "cell_type": "code",
   "execution_count": null,
   "id": "48249be5-117b-4548-bde1-06592dde5280",
   "metadata": {},
   "outputs": [],
   "source": [
    "disciplinas_total.columns = ['disciplina', 'curso', 'total']\n",
    "\n",
    "disciplinas_formados.columns = ['disciplina', 'curso', 'total_formados']\n",
    "disciplinas_evadidos.columns = ['disciplina', 'curso', 'total_evadidos']\n",
    "\n",
    "disciplinas_formados_reprovado.columns = ['disciplina', 'curso', 'total_formados_reprovados']\n",
    "disciplinas_evadidos_reprovado.columns = ['disciplina', 'curso', 'total_evadidos_reprovados']"
   ]
  },
  {
   "cell_type": "code",
   "execution_count": null,
   "id": "b07a17e0-631b-4685-9e3b-c0d60fd909a3",
   "metadata": {},
   "outputs": [],
   "source": [
    "# disciplinas_evadidos_reprovado.sort_values('total_evadidos_reprovados', ascending=False).head(40)"
   ]
  },
  {
   "cell_type": "code",
   "execution_count": null,
   "id": "8894ccee-6a63-49a4-a7d7-87504c24e380",
   "metadata": {},
   "outputs": [],
   "source": [
    "df_disciplinas = disciplinas_total.merge(disciplinas_formados, how='outer', on=['disciplina', 'curso']).merge(disciplinas_evadidos, how='outer', on=['disciplina', 'curso']).fillna(0).merge(disciplinas_formados_reprovado, how='outer', on=['disciplina', 'curso']).fillna(0).merge(disciplinas_evadidos_reprovado, how='outer', on=['disciplina', 'curso']).fillna(0)"
   ]
  },
  {
   "cell_type": "code",
   "execution_count": null,
   "id": "dcf3ab6d-af2a-48df-9f48-e6996a470d19",
   "metadata": {},
   "outputs": [],
   "source": [
    "df_disciplinas['percentual_formados'] = df_disciplinas['total_formados']/df_disciplinas['total']\n",
    "df_disciplinas['percentual_evadidos'] = df_disciplinas['total_evadidos']/df_disciplinas['total']\n",
    "\n",
    "df_disciplinas['proporcao_evadidos'] = df_disciplinas['total_evadidos']/(df_disciplinas['total_evadidos'] + df_disciplinas['total_formados'])"
   ]
  },
  {
   "cell_type": "code",
   "execution_count": null,
   "id": "33758054-ac08-4ecd-a569-7b21c700700d",
   "metadata": {},
   "outputs": [],
   "source": [
    "# df_disciplinas"
   ]
  },
  {
   "cell_type": "code",
   "execution_count": null,
   "id": "3fa4b9af-ffc7-46c6-b2d5-2f762539f247",
   "metadata": {},
   "outputs": [],
   "source": [
    "# df_disciplinas[['disciplina', 'curso', 'percentual_evadidos']].sort_values('percentual_evadidos', ascending=False).head(50)"
   ]
  },
  {
   "cell_type": "code",
   "execution_count": null,
   "id": "c0af2a18-5475-4b2f-a2a6-a77d1e694490",
   "metadata": {},
   "outputs": [],
   "source": [
    "# df_disciplinas[['disciplina', 'curso', '' 'proporcao_evadidos']][df_disciplinas['total_formados'] > 10].sort_values('proporcao_evadidos', ascending=False).head(40)"
   ]
  },
  {
   "cell_type": "markdown",
   "id": "d2c2d7cb-76d1-4174-84ed-d55ce049af6a",
   "metadata": {},
   "source": [
    "##### Colocar todas as médias e notas em um mesmo range (0 - 10)"
   ]
  },
  {
   "cell_type": "code",
   "execution_count": null,
   "id": "ec51bbb2-4ab1-44df-b1e5-8cdc38724dc9",
   "metadata": {},
   "outputs": [],
   "source": [
    "media_medias = df_h['mediafinal'].mean()"
   ]
  },
  {
   "cell_type": "code",
   "execution_count": null,
   "id": "09f907a1-b96c-4fe7-8dac-41ab1cff6ce9",
   "metadata": {},
   "outputs": [],
   "source": [
    "df_h['mediafinal'] = df_h['mediafinal'].apply(lambda x: corrige_media(x, media_medias))"
   ]
  },
  {
   "cell_type": "markdown",
   "id": "b22b780c-42b3-404e-a3d4-08a90ff6d143",
   "metadata": {},
   "source": [
    "##### Conferindo"
   ]
  },
  {
   "cell_type": "code",
   "execution_count": null,
   "id": "51c1fdf0-2a31-4cff-8408-45e57d33c140",
   "metadata": {},
   "outputs": [],
   "source": [
    "df_h[['matricula', 'disciplina', 'mediafinal', 'sit_matricula', 'sit_disciplina']][(df_h['mediafinal'] > 10)&(df_h['mediafinal'] <= 100000)]"
   ]
  },
  {
   "cell_type": "markdown",
   "id": "4fb8954a-45cb-45c1-88f2-e8a0943440ad",
   "metadata": {},
   "source": [
    "##### Preenche com 0 para quem não possui pontos no processo seletivo"
   ]
  },
  {
   "cell_type": "code",
   "execution_count": null,
   "id": "fee9b909-757c-4266-a245-03802c374980",
   "metadata": {},
   "outputs": [],
   "source": [
    "df_h['totalpontoprocseletivo'].fillna(0, inplace=True)"
   ]
  },
  {
   "cell_type": "code",
   "execution_count": null,
   "id": "4c29c929-c133-4580-b7e6-4bc4de1442a9",
   "metadata": {},
   "outputs": [],
   "source": [
    "colunas_h = ['matricula', 'freguencia', 'mediafinal', 'totalpontoprocseletivo', 'cod_disciplina', 'disciplina']"
   ]
  },
  {
   "cell_type": "code",
   "execution_count": null,
   "id": "474c1e3d-4b6b-42bd-bdb4-9df03949eee9",
   "metadata": {},
   "outputs": [],
   "source": [
    "del(df_historico)"
   ]
  },
  {
   "cell_type": "markdown",
   "id": "48c5ce6d-27c2-4ef4-a450-72bd86b65d40",
   "metadata": {},
   "source": [
    "##### Normalizando a Frequência"
   ]
  },
  {
   "cell_type": "code",
   "execution_count": null,
   "id": "517e4687-7c34-420d-ac8d-c4f650aedc31",
   "metadata": {},
   "outputs": [],
   "source": [
    "df_h['freguencia'][df_h['freguencia'] <= 100].mean()"
   ]
  },
  {
   "cell_type": "code",
   "execution_count": null,
   "id": "1a3fa8ec-357b-4efc-ad9e-04d0d119f80a",
   "metadata": {},
   "outputs": [],
   "source": [
    "def frequencia_media(f):\n",
    "    if f > 100:\n",
    "        return 99\n",
    "    elif (f <= 10) & (f > 1):\n",
    "        return f*10\n",
    "    elif f == 1:\n",
    "        return f*100\n",
    "    else:\n",
    "        return f"
   ]
  },
  {
   "cell_type": "code",
   "execution_count": null,
   "id": "1a1cb23e-7c00-468a-982a-96a95f89cbc0",
   "metadata": {},
   "outputs": [],
   "source": [
    "df_h['freguencia'] = df_h['freguencia'].apply(frequencia_media)"
   ]
  },
  {
   "cell_type": "code",
   "execution_count": null,
   "id": "bad27eeb-142b-42f5-bea6-87606e883229",
   "metadata": {},
   "outputs": [],
   "source": [
    "df_h[df_h['periodo_grade'].isnull()]"
   ]
  },
  {
   "cell_type": "markdown",
   "id": "0a76933d-b021-461d-954f-59a1cebcc9d7",
   "metadata": {},
   "source": [
    "##### Selecionando somente o primeiro semestre do curso"
   ]
  },
  {
   "cell_type": "code",
   "execution_count": null,
   "id": "8524bd55-443e-4abe-a263-ba19190c38ee",
   "metadata": {},
   "outputs": [],
   "source": [
    "df_historico = pd.DataFrame(df_h[colunas_h][(df_h['periodo_cursou'] <= 1) & (df_h['periodo_grade'] == 1)])"
   ]
  },
  {
   "cell_type": "markdown",
   "id": "1ab96798-1278-4a2e-8064-039aa528778a",
   "metadata": {},
   "source": [
    "##### Conferir quantos registros sobram com esta seleção"
   ]
  },
  {
   "cell_type": "code",
   "execution_count": null,
   "id": "e8ca7663-cc99-4585-b670-a6604a00db14",
   "metadata": {},
   "outputs": [],
   "source": [
    "df_a[['cod_matricula', 'situacao']][(df_a['situacao'] == 'FO') | (df_a['situacao'] == 'FI')].merge(df_historico, how='inner', left_on='cod_matricula', right_on='matricula').groupby('cod_matricula').count().sort_values('mediafinal', ascending=True).tail(10)"
   ]
  },
  {
   "cell_type": "markdown",
   "id": "7a0f7850-0c7e-4b18-89b7-5f2365eca7c8",
   "metadata": {},
   "source": [
    "##### Selecionar apenas os dados das situações FO, FI e CA"
   ]
  },
  {
   "cell_type": "code",
   "execution_count": null,
   "id": "a55d90ad-1214-42cc-abba-bf2c3ae0e920",
   "metadata": {},
   "outputs": [],
   "source": [
    "df_historico.columns, df_a.columns"
   ]
  },
  {
   "cell_type": "code",
   "execution_count": null,
   "id": "068b0895-3ca1-4905-8749-96e9568cc6be",
   "metadata": {},
   "outputs": [],
   "source": [
    "df_hn = pd.DataFrame(df_a[['cod_matricula', 'situacao']][(df_a['situacao'] == 'FO') | (df_a['situacao'] == 'FI') | (df_a['situacao'] == 'CA')].merge(df_historico, how='inner', left_on='cod_matricula', right_on='matricula')) #.groupby('matricula').count().sort_values('mediafinal', ascending=True).head(10)"
   ]
  },
  {
   "cell_type": "code",
   "execution_count": null,
   "id": "01d5a5ca-d645-4b8d-bbcf-6598aa8bab73",
   "metadata": {},
   "outputs": [],
   "source": [
    "len(df_h2)"
   ]
  },
  {
   "cell_type": "code",
   "execution_count": null,
   "id": "5e345748-e802-4241-845d-6cef91993b27",
   "metadata": {},
   "outputs": [],
   "source": [
    "colunas_agrupar = ['disciplina', 'freguencia', 'mediafinal']"
   ]
  },
  {
   "cell_type": "code",
   "execution_count": null,
   "id": "4b828c99-83b2-4106-b27d-903972b233ae",
   "metadata": {},
   "outputs": [],
   "source": [
    "colunas_todas = []\n",
    "colunas_todas.append('matricula')\n",
    "colunas_todas.append('totalpontoprocseletivo')\n",
    "for i in colunas_agrupar:\n",
    "    for x in range(1,9):\n",
    "        colunas_todas.append(i + '_' + str(x))"
   ]
  },
  {
   "cell_type": "code",
   "execution_count": null,
   "id": "81b5999b-a0cd-4dce-a7fa-f34347e30582",
   "metadata": {},
   "outputs": [],
   "source": [
    "len(colunas_todas)"
   ]
  },
  {
   "cell_type": "code",
   "execution_count": null,
   "id": "a7a1fc26-5913-4f8b-a553-f093870cbdfd",
   "metadata": {},
   "outputs": [],
   "source": [
    "df_h_full = pd.DataFrame(columns=colunas_todas)"
   ]
  },
  {
   "cell_type": "code",
   "execution_count": null,
   "id": "f63e8586-afd3-47b1-9c8d-fcd293ef1b22",
   "metadata": {},
   "outputs": [],
   "source": [
    "matriculas = df_hn['matricula'].unique()"
   ]
  },
  {
   "cell_type": "code",
   "execution_count": null,
   "id": "fca1e148-b240-44b7-a8d2-3161a96b0258",
   "metadata": {},
   "outputs": [],
   "source": [
    "df_h_full.columns"
   ]
  },
  {
   "cell_type": "markdown",
   "id": "c6d0c4b7-e4f3-4263-819e-3f12709201a9",
   "metadata": {},
   "source": [
    "#### Juntando as disciplinas por matrícula"
   ]
  },
  {
   "cell_type": "code",
   "execution_count": null,
   "id": "6c51c2f8-b596-4692-a284-76531e544198",
   "metadata": {},
   "outputs": [],
   "source": [
    "novo_dataset = []\n",
    "for m in matriculas:\n",
    "    nova_linha = []\n",
    "    # Primeiro registro -> matricula\n",
    "    nova_linha.append(m)\n",
    "    # Segundo registro -> total pontos no processo seletivo\n",
    "    nova_linha.append(df_hn['totalpontoprocseletivo'][df_hn['matricula'] == m].mean())\n",
    "    for c in colunas_agrupar:\n",
    "        d = 0\n",
    "        for i in df_hn[c][df_hn['matricula'] == m]:\n",
    "            if(d < 8):\n",
    "                nova_linha.append(i)\n",
    "                d = d + 1\n",
    "        #print(str(d) + '\\n')\n",
    "        if(d < 8):\n",
    "            r = 8 - d\n",
    "            for i in range(r):\n",
    "                # Se a coluna atual for disciplina, completar com 0\n",
    "                if c == 'disciplina':\n",
    "                    nova_linha.append(0)\n",
    "                    d = d + 1\n",
    "                else:\n",
    "                    nova_linha.append(int(df_hn[c][df_hn['matricula'] == m].mean()))\n",
    "                    d = d + 1\n",
    "        #print('\\n' + str(d) + '\\n')\n",
    "    novo_dataset.append(nova_linha)"
   ]
  },
  {
   "cell_type": "code",
   "execution_count": null,
   "id": "5d2d1242-85de-4420-9345-941f37b0ba3d",
   "metadata": {},
   "outputs": [],
   "source": [
    "len(novo_dataset)"
   ]
  },
  {
   "cell_type": "code",
   "execution_count": null,
   "id": "5778c25e-e408-4d6d-92f6-ed89035fe026",
   "metadata": {},
   "outputs": [],
   "source": [
    "df_h_full = pd.DataFrame(novo_dataset, columns=colunas_todas)"
   ]
  },
  {
   "cell_type": "code",
   "execution_count": null,
   "id": "76930af1-db6e-4335-8a3c-caa2c8918a97",
   "metadata": {},
   "outputs": [],
   "source": [
    "df_h_full.columns"
   ]
  },
  {
   "cell_type": "markdown",
   "id": "e4866f12-b5cb-4b4a-aa82-1955682c910c",
   "metadata": {},
   "source": [
    "##### Factorize dos dados categóricos do dataset do histórico"
   ]
  },
  {
   "cell_type": "code",
   "execution_count": null,
   "id": "31ea103a-e706-41c7-93ae-82fd50671662",
   "metadata": {},
   "outputs": [],
   "source": [
    "disciplina = ['disciplina_1', 'disciplina_2', 'disciplina_3', 'disciplina_4', 'disciplina_5', 'disciplina_6', 'disciplina_7', 'disciplina_8']"
   ]
  },
  {
   "cell_type": "code",
   "execution_count": null,
   "id": "d4d96ccd-1dbf-4fc8-bc61-fc5c2cdd8779",
   "metadata": {},
   "outputs": [],
   "source": [
    "for d in disciplina:\n",
    "    n_fac, n_uniq = pd.factorize(df_h_full[d])\n",
    "    n_fac = n_fac + 1\n",
    "    df_h_full[d] = pd.Series(n_fac)"
   ]
  },
  {
   "cell_type": "code",
   "execution_count": null,
   "id": "054faceb-de18-43bc-9a5f-6361ff52a6c9",
   "metadata": {},
   "outputs": [],
   "source": [
    "df_h_full"
   ]
  },
  {
   "cell_type": "code",
   "execution_count": null,
   "id": "2c66c4a9-17e9-48ff-b22e-a6e743b7f835",
   "metadata": {},
   "outputs": [],
   "source": [
    "df_h_a_full = df_h_full.merge(df_a, how='inner', left_on='matricula', right_on='cod_matricula')"
   ]
  },
  {
   "cell_type": "code",
   "execution_count": 336,
   "id": "2ad0d4e1-c388-4e9d-86ae-7e6ed565417e",
   "metadata": {},
   "outputs": [
    {
     "data": {
      "text/plain": [
       "Index(['matricula', 'totalpontoprocseletivo', 'disciplina_1', 'disciplina_2',\n",
       "       'disciplina_3', 'disciplina_4', 'disciplina_5', 'disciplina_6',\n",
       "       'disciplina_7', 'disciplina_8', 'freguencia_1', 'freguencia_2',\n",
       "       'freguencia_3', 'freguencia_4', 'freguencia_5', 'freguencia_6',\n",
       "       'freguencia_7', 'freguencia_8', 'mediafinal_1', 'mediafinal_2',\n",
       "       'mediafinal_3', 'mediafinal_4', 'mediafinal_5', 'mediafinal_6',\n",
       "       'mediafinal_7', 'mediafinal_8', 'cod_curso', 'cod_matricula', 'idade',\n",
       "       'genero', 'estado_civil', 'cod_municipio', 'etnia', 'trajetoria',\n",
       "       'unidadeensino', 'superior', 'atividadep', 'participacaof', 'rendai',\n",
       "       'rendaf', 'escolapai', 'escolamae', 'curso', 'situacao', 'faixa_etaria',\n",
       "       'disciplina_9', 'disciplina_10', 'disciplina_11', 'disciplina_12',\n",
       "       'disciplina_13', 'disciplina_14', 'disciplina_15', 'disciplina_16',\n",
       "       'disciplina_17', 'disciplina_18', 'disciplina_19', 'disciplina_20',\n",
       "       'disciplina_21', 'disciplina_22', 'disciplina_23', 'disciplina_24',\n",
       "       'disciplina_25', 'disciplina_26', 'disciplina_27', 'disciplina_28',\n",
       "       'disciplina_29', 'disciplina_30', 'disciplina_31', 'disciplina_32',\n",
       "       'disciplina_33', 'disciplina_34', 'disciplina_35', 'disciplina_36',\n",
       "       'disciplina_37', 'disciplina_38', 'disciplina_39', 'disciplina_40',\n",
       "       'disciplina_41', 'disciplina_42', 'disciplina_43', 'disciplina_44',\n",
       "       'disciplina_45', 'disciplina_46'],\n",
       "      dtype='object')"
      ]
     },
     "execution_count": 336,
     "metadata": {},
     "output_type": "execute_result"
    }
   ],
   "source": [
    "df_h_a_full.columns"
   ]
  },
  {
   "cell_type": "code",
   "execution_count": null,
   "id": "d29fc994-a3f0-4d90-b8d4-0b1681b0b7d9",
   "metadata": {},
   "outputs": [],
   "source": [
    "df_h_a_full.groupby('situacao').count()"
   ]
  },
  {
   "cell_type": "markdown",
   "id": "253d375c-aebb-4b23-bf5f-6087a70287d6",
   "metadata": {},
   "source": [
    "##### OneHotEncoding"
   ]
  },
  {
   "cell_type": "code",
   "execution_count": null,
   "id": "59b9ddf7-0c6e-47af-b8a9-cfe5d4085af8",
   "metadata": {},
   "outputs": [],
   "source": [
    "colunas_d = ['disciplina_1', 'disciplina_2', 'disciplina_3', 'disciplina_4', \n",
    "             'disciplina_5', 'disciplina_6', 'disciplina_7', 'disciplina_8']"
   ]
  },
  {
   "cell_type": "code",
   "execution_count": null,
   "id": "fac31f59-a9f2-424c-a501-eca7edd9a7a3",
   "metadata": {},
   "outputs": [],
   "source": [
    "disciplinas = pd.concat([df_h_a_full['disciplina_1'],df_h_a_full['disciplina_2'],df_h_a_full['disciplina_3'],\n",
    "                         df_h_a_full['disciplina_4'],df_h_a_full['disciplina_5'],df_h_a_full['disciplina_6'],\n",
    "                         df_h_a_full['disciplina_7'],df_h_a_full['disciplina_8'],],axis=0).unique()"
   ]
  },
  {
   "cell_type": "code",
   "execution_count": null,
   "id": "d62a6242-3c61-4dad-951c-bed237002c65",
   "metadata": {},
   "outputs": [],
   "source": [
    "dummies = []\n",
    "\n",
    "for d in disciplinas:\n",
    "    if int(d) > 0:\n",
    "        dummies.append('disciplina_' + str(d))"
   ]
  },
  {
   "cell_type": "code",
   "execution_count": null,
   "id": "22b10e07-5ada-40e2-8cb4-4688ae5e28aa",
   "metadata": {},
   "outputs": [],
   "source": [
    "def disciplina_dummies(x_array, d):\n",
    "    if int(d.split('_')[1]) in x_array:\n",
    "        return 1\n",
    "    else:\n",
    "        return 0"
   ]
  },
  {
   "cell_type": "code",
   "execution_count": null,
   "id": "2bb170b6-a692-4eb8-918a-f5cb934101fb",
   "metadata": {},
   "outputs": [],
   "source": [
    "for d in dummies:\n",
    "    df_h_a_full[d] = df_h_a_full.apply(lambda x: disciplina_dummies([x.disciplina_1, x.disciplina_2, x.disciplina_3,\n",
    "                                                       x.disciplina_4,x.disciplina_5, x.disciplina_6,\n",
    "                                                       x.disciplina_7, x.disciplina_8], d), axis=1)"
   ]
  },
  {
   "cell_type": "code",
   "execution_count": null,
   "id": "f03a99ef-5136-499d-8720-1d205ff64f46",
   "metadata": {},
   "outputs": [],
   "source": [
    "df_a.columns"
   ]
  },
  {
   "cell_type": "code",
   "execution_count": null,
   "id": "0c3d0b67-528e-4467-b969-e784d2b40ea4",
   "metadata": {},
   "outputs": [],
   "source": [
    "colunas_alunos = ['cod_curso', 'genero', 'estado_civil', 'etnia', 'trajetoria', 'unidadeensino', 'superior',\n",
    "       'atividadep', 'participacaof', 'rendai', 'rendaf', 'escolapai', 'escolamae', 'faixa_etaria']"
   ]
  },
  {
   "cell_type": "code",
   "execution_count": null,
   "id": "a20550f4-4018-4cc4-b7d2-610d37286162",
   "metadata": {},
   "outputs": [],
   "source": [
    "df_h_a_one = pd.get_dummies(df_h_a_full, columns=colunas_alunos)"
   ]
  },
  {
   "cell_type": "code",
   "execution_count": null,
   "id": "35cc0c86-58c5-442b-9efa-0bbd1b1edef7",
   "metadata": {},
   "outputs": [],
   "source": [
    "df_h_a_one.drop('curso', axis=1, inplace=True)"
   ]
  },
  {
   "cell_type": "code",
   "execution_count": 340,
   "id": "f3e8a03c-1078-4c8b-aeb2-86d018b1fb8d",
   "metadata": {},
   "outputs": [],
   "source": [
    "def label(x):\n",
    "    if x == 'CA':\n",
    "        return 1\n",
    "    else:\n",
    "        return 0        "
   ]
  },
  {
   "cell_type": "code",
   "execution_count": 341,
   "id": "14917255-56c7-4609-936e-86c3a95ffca9",
   "metadata": {},
   "outputs": [],
   "source": [
    "df_h_a_one['label'] = df_h_a_one['situacao'].apply(label)"
   ]
  },
  {
   "cell_type": "code",
   "execution_count": 342,
   "id": "b0c10449-d3e7-48c8-81a7-b0bfd8b9795a",
   "metadata": {},
   "outputs": [],
   "source": [
    "df_h_a_one.drop('situacao', axis=1, inplace=True)"
   ]
  },
  {
   "cell_type": "markdown",
   "id": "b62960a9-234d-4bf0-b453-ad364321def4",
   "metadata": {},
   "source": [
    "##### Divisão dos dados"
   ]
  },
  {
   "cell_type": "code",
   "execution_count": 343,
   "id": "b53c4ce8-b043-4de5-90b2-7a7006f4bcf0",
   "metadata": {},
   "outputs": [],
   "source": [
    "df_formados = pd.DataFrame(df_h_a_one[(df_h_a_one['label'] == 0)])\n",
    "df_evadidos = pd.DataFrame(df_h_a_one[(df_h_a_one['label'] == 1)])"
   ]
  },
  {
   "cell_type": "code",
   "execution_count": 344,
   "id": "5dc9a595-e5db-42ce-8e9e-b02be00b7ceb",
   "metadata": {},
   "outputs": [
    {
     "data": {
      "text/plain": [
       "(10012, 38478)"
      ]
     },
     "execution_count": 344,
     "metadata": {},
     "output_type": "execute_result"
    }
   ],
   "source": [
    "len(df_formados), len(df_evadidos)"
   ]
  },
  {
   "cell_type": "code",
   "execution_count": 358,
   "id": "de46d674-55c8-491b-bc1e-c36f1b33f0b0",
   "metadata": {},
   "outputs": [],
   "source": [
    "df = pd.concat([df_formados.sample(len(df_formados), random_state=0), df_evadidos.sample(len(df_formados), random_state=0)], axis=0)\n",
    "df = df.fillna(0)"
   ]
  },
  {
   "cell_type": "code",
   "execution_count": 359,
   "id": "9e1ad423-e9ae-479e-ab11-14d7509f6507",
   "metadata": {},
   "outputs": [],
   "source": [
    "x = df.drop('label', axis=1)\n",
    "y = df['label']"
   ]
  },
  {
   "cell_type": "markdown",
   "id": "a6df67b9-81ba-456b-bda4-e5353bbfbc0c",
   "metadata": {},
   "source": [
    "##### Eliminando variáveis constantes"
   ]
  },
  {
   "cell_type": "code",
   "execution_count": 360,
   "id": "ec30e4bf-80be-4268-856a-99e2707cda57",
   "metadata": {},
   "outputs": [
    {
     "data": {
      "text/plain": [
       "10.771992818671453"
      ]
     },
     "execution_count": 360,
     "metadata": {},
     "output_type": "execute_result"
    }
   ],
   "source": [
    "var_thr = VarianceThreshold(threshold = 0)\n",
    "var_thr.fit(x)\n",
    "\n",
    "concol = [column for column in x.columns if column not in x.columns[var_thr.get_support()]]\n",
    "\n",
    "len(concol)/len(x.columns)*100"
   ]
  },
  {
   "cell_type": "code",
   "execution_count": 361,
   "id": "73bd72b7-a35c-4b22-8464-b99a03bddb22",
   "metadata": {},
   "outputs": [],
   "source": [
    "x.drop(concol,axis=1, inplace=True)"
   ]
  },
  {
   "cell_type": "markdown",
   "id": "d69d587a-2167-4c01-b9fc-abdffc029ca7",
   "metadata": {},
   "source": [
    "##### Colocar os dados em uma mesma escala"
   ]
  },
  {
   "cell_type": "code",
   "execution_count": 362,
   "id": "0f3b82e7-5ab2-40e3-b45e-2cba4022a328",
   "metadata": {},
   "outputs": [],
   "source": [
    "scaler_mm = MinMaxScaler().fit(x)"
   ]
  },
  {
   "cell_type": "code",
   "execution_count": 363,
   "id": "8faa12ce-b206-4c67-b105-d429c9125c3c",
   "metadata": {},
   "outputs": [],
   "source": [
    "x_scaled = scaler_mm.transform(x)"
   ]
  },
  {
   "cell_type": "markdown",
   "id": "07ef328b-60dc-46d8-b805-bf4e5b92d40f",
   "metadata": {},
   "source": [
    "##### Testando com os algoritmos e todas as features"
   ]
  },
  {
   "cell_type": "code",
   "execution_count": 364,
   "id": "cbaab94f-39ea-458b-813b-07437dc02593",
   "metadata": {},
   "outputs": [
    {
     "name": "stderr",
     "output_type": "stream",
     "text": [
      "/home/dti/.local/lib/python3.10/site-packages/xgboost/data.py:520: FutureWarning: is_sparse is deprecated and will be removed in a future version. Check `isinstance(dtype, pd.SparseDtype)` instead.\n",
      "  if is_sparse(data):\n"
     ]
    },
    {
     "name": "stdout",
     "output_type": "stream",
     "text": [
      "XGBoost\n",
      "\n",
      "              precision    recall  f1-score   support\n",
      "\n",
      "           0       0.86      0.95      0.91      2507\n",
      "           1       0.95      0.85      0.90      2499\n",
      "\n",
      "    accuracy                           0.90      5006\n",
      "   macro avg       0.91      0.90      0.90      5006\n",
      "weighted avg       0.91      0.90      0.90      5006\n",
      "\n",
      "Regressão Logística\n",
      "\n",
      "              precision    recall  f1-score   support\n",
      "\n",
      "           0       0.84      0.93      0.89      2507\n",
      "           1       0.92      0.83      0.87      2499\n",
      "\n",
      "    accuracy                           0.88      5006\n",
      "   macro avg       0.88      0.88      0.88      5006\n",
      "weighted avg       0.88      0.88      0.88      5006\n",
      "\n",
      "Random Forest\n",
      "\n",
      "              precision    recall  f1-score   support\n",
      "\n",
      "           0       0.79      0.97      0.87      2507\n",
      "           1       0.96      0.75      0.84      2499\n",
      "\n",
      "    accuracy                           0.86      5006\n",
      "   macro avg       0.88      0.86      0.86      5006\n",
      "weighted avg       0.88      0.86      0.86      5006\n",
      "\n",
      "Support Vector Machine\n",
      "\n",
      "              precision    recall  f1-score   support\n",
      "\n",
      "           0       0.84      0.96      0.90      2507\n",
      "           1       0.96      0.82      0.88      2499\n",
      "\n",
      "    accuracy                           0.89      5006\n",
      "   macro avg       0.90      0.89      0.89      5006\n",
      "weighted avg       0.90      0.89      0.89      5006\n",
      "\n",
      "K-Nearest Neighbors \n",
      "\n",
      "              precision    recall  f1-score   support\n",
      "\n",
      "           0       0.78      0.93      0.85      2507\n",
      "           1       0.91      0.74      0.81      2499\n",
      "\n",
      "    accuracy                           0.83      5006\n",
      "   macro avg       0.85      0.83      0.83      5006\n",
      "weighted avg       0.85      0.83      0.83      5006\n",
      "\n",
      "Árvore de Decisão \n",
      "\n",
      "              precision    recall  f1-score   support\n",
      "\n",
      "           0       0.85      0.85      0.85      2507\n",
      "           1       0.85      0.85      0.85      2499\n",
      "\n",
      "    accuracy                           0.85      5006\n",
      "   macro avg       0.85      0.85      0.85      5006\n",
      "weighted avg       0.85      0.85      0.85      5006\n",
      "\n"
     ]
    }
   ],
   "source": [
    "preditor_teste(x_scaled, y)"
   ]
  },
  {
   "cell_type": "code",
   "execution_count": 365,
   "id": "2a9e7fac-a389-4973-918e-25dacdd76e90",
   "metadata": {},
   "outputs": [],
   "source": [
    "import warnings\n",
    "warnings.simplefilter(action='ignore', category=FutureWarning)"
   ]
  },
  {
   "cell_type": "code",
   "execution_count": 369,
   "id": "a93f5779-cfbe-4cd8-a115-38d02257a3cc",
   "metadata": {},
   "outputs": [],
   "source": [
    "def best_features(n_features, x, y):\n",
    "    \n",
    "    melhores_features = SelectKBest(f_classif, k=n_features)\n",
    "    melhores_features.fit(x, y)\n",
    "    cols_idxs = melhores_features.get_feature_names_out(x.columns)\n",
    "    scores = melhores_features.scores_\n",
    "    \n",
    "    df_x = pd.DataFrame(data=melhores_features.transform(x), columns=cols_idxs)\n",
    "    \n",
    "    X_0, X_1, y_0, y_1 = train_test_split(df_x, y, random_state=0, test_size=0.25)\n",
    "    \n",
    "    a = XGBClassifier(learning_rate=0.1, n_estimators=100, random_state=0)\n",
    "    #a = DecisionTreeClassifier()\n",
    "    #a = LogisticRegression(C=0.1, max_iter=10000)\n",
    "    \n",
    "    a.fit(X_0, y_0)\n",
    "\n",
    "    pred_treino_x = a.predict(X_0)\n",
    "    pred_teste_x = a.predict(X_1)\n",
    "\n",
    "    result = precision_recall_fscore_support(pred_teste_x, y_1)\n",
    "\n",
    "    recall_0, recall_1 = recallculator(pred_teste_x, y_1)\n",
    "    \n",
    "    f_importances = a.feature_importances_\n",
    "    #f_importances = a.coef_\n",
    "    n_features = n_features\n",
    "    features_names = a.feature_names_in_\n",
    "    score = a.score(X_1, y_1)\n",
    "    \n",
    "    return f_importances, n_features, features_names, score, recall_0, recall_1, pred_teste_x, y_1"
   ]
  },
  {
   "cell_type": "code",
   "execution_count": 375,
   "id": "24067e6d-b5c2-4348-8639-3bd97282e6b1",
   "metadata": {},
   "outputs": [],
   "source": [
    "def recallculator(predicao, y):\n",
    "    vp = 0\n",
    "    vn = 0\n",
    "    fp = 0\n",
    "    fn = 0\n",
    "    y = list(y)\n",
    "    if len(predicao) == len(y):\n",
    "        for i in range(0,len(y)):\n",
    "            if((predicao[i] == 1) & (y[i] == 1)):\n",
    "                vp = vp + 1\n",
    "            elif((predicao[i] == 0) & (y[i] == 1)):\n",
    "                fn = fn + 1\n",
    "            elif((predicao[i] == 1) & (y[i] == 0)):\n",
    "                fp = fp + 1\n",
    "            elif((predicao[i] == 0) & (y[i] == 0)):\n",
    "                vn = vn + 1\n",
    "        total_1 = sum(y)\n",
    "        total_0 = len(y) - total_1\n",
    "        recall_0 = vn / total_0\n",
    "        recall_1 = vp / total_1\n",
    "\n",
    "        return recall_0, recall_1"
   ]
  },
  {
   "cell_type": "code",
   "execution_count": 373,
   "id": "c21e42d5-dd56-4ae1-ba8d-b3ab2427103e",
   "metadata": {},
   "outputs": [],
   "source": [
    "new_x = pd.DataFrame(x_scaled, columns=x.columns)"
   ]
  },
  {
   "cell_type": "code",
   "execution_count": 376,
   "id": "76a1428b-c178-4031-83ed-633ade255f11",
   "metadata": {},
   "outputs": [
    {
     "name": "stdout",
     "output_type": "stream",
     "text": [
      "Features: 10 - Score: 0.856 - Recall 0: 0.9437574790586358 - Recall 1: 0.7671068427370948\n",
      "Features: 11 - Score: 0.868 - Recall 0: 0.9429597128041484 - Recall 1: 0.7931172468987595\n",
      "Features: 12 - Score: 0.87 - Recall 0: 0.9453530115676106 - Recall 1: 0.7943177270908364\n",
      "Features: 13 - Score: 0.869 - Recall 0: 0.9433585959313922 - Recall 1: 0.7935174069627852\n",
      "Features: 14 - Score: 0.869 - Recall 0: 0.9433585959313922 - Recall 1: 0.7935174069627852\n",
      "Features: 15 - Score: 0.871 - Recall 0: 0.9401675309134424 - Recall 1: 0.801920768307323\n",
      "Features: 16 - Score: 0.876 - Recall 0: 0.9485440765855604 - Recall 1: 0.8031212484993998\n",
      "Features: 17 - Score: 0.876 - Recall 0: 0.9485440765855604 - Recall 1: 0.8031212484993998\n",
      "Features: 18 - Score: 0.875 - Recall 0: 0.9445552453131233 - Recall 1: 0.8059223689475791\n",
      "Features: 19 - Score: 0.874 - Recall 0: 0.9389708815317112 - Recall 1: 0.8091236494597839\n",
      "Features: 20 - Score: 0.875 - Recall 0: 0.9441563621858795 - Recall 1: 0.8047218887555022\n",
      "Features: 21 - Score: 0.877 - Recall 0: 0.9437574790586358 - Recall 1: 0.8107242897158864\n",
      "Features: 22 - Score: 0.876 - Recall 0: 0.9389708815317112 - Recall 1: 0.8119247699079631\n",
      "Features: 23 - Score: 0.876 - Recall 0: 0.9405664140406861 - Recall 1: 0.8115246098439376\n",
      "Features: 24 - Score: 0.878 - Recall 0: 0.9421619465496609 - Recall 1: 0.8139255702280912\n",
      "Features: 25 - Score: 0.875 - Recall 0: 0.9409652971679298 - Recall 1: 0.8091236494597839\n",
      "Features: 26 - Score: 0.875 - Recall 0: 0.93777423214998 - Recall 1: 0.8123249299719888\n",
      "Features: 27 - Score: 0.876 - Recall 0: 0.9389708815317112 - Recall 1: 0.8119247699079631\n",
      "Features: 28 - Score: 0.877 - Recall 0: 0.9409652971679298 - Recall 1: 0.8119247699079631\n",
      "Features: 29 - Score: 0.879 - Recall 0: 0.9437574790586358 - Recall 1: 0.8147258903561424\n",
      "Features: 30 - Score: 0.881 - Recall 0: 0.9445552453131233 - Recall 1: 0.8171268507402961\n",
      "Features: 31 - Score: 0.879 - Recall 0: 0.9433585959313922 - Recall 1: 0.8143257302921169\n",
      "Features: 32 - Score: 0.882 - Recall 0: 0.944954128440367 - Recall 1: 0.8179271708683473\n",
      "Features: 33 - Score: 0.88 - Recall 0: 0.9429597128041484 - Recall 1: 0.8159263705482193\n",
      "Features: 34 - Score: 0.882 - Recall 0: 0.9457518946948544 - Recall 1: 0.8179271708683473\n",
      "Features: 35 - Score: 0.882 - Recall 0: 0.9457518946948544 - Recall 1: 0.8179271708683473\n",
      "Features: 36 - Score: 0.881 - Recall 0: 0.9441563621858795 - Recall 1: 0.8167266906762705\n",
      "Features: 37 - Score: 0.887 - Recall 0: 0.9473474272038293 - Recall 1: 0.8255302120848339\n",
      "Features: 38 - Score: 0.885 - Recall 0: 0.9457518946948544 - Recall 1: 0.8247298919567827\n",
      "Features: 39 - Score: 0.889 - Recall 0: 0.9493418428400479 - Recall 1: 0.8291316526610645\n",
      "Features: 40 - Score: 0.889 - Recall 0: 0.9513362584762665 - Recall 1: 0.8263305322128851\n",
      "Features: 41 - Score: 0.889 - Recall 0: 0.9513362584762665 - Recall 1: 0.8263305322128851\n",
      "Features: 42 - Score: 0.888 - Recall 0: 0.9481451934583167 - Recall 1: 0.8271308523409364\n",
      "Features: 43 - Score: 0.89 - Recall 0: 0.947746310331073 - Recall 1: 0.8323329331732693\n",
      "Features: 44 - Score: 0.889 - Recall 0: 0.9497407259672915 - Recall 1: 0.827531012404962\n",
      "Features: 45 - Score: 0.89 - Recall 0: 0.9513362584762665 - Recall 1: 0.8287314925970388\n",
      "Features: 46 - Score: 0.893 - Recall 0: 0.9513362584762665 - Recall 1: 0.8335334133653461\n",
      "Features: 47 - Score: 0.892 - Recall 0: 0.9517351416035101 - Recall 1: 0.8319327731092437\n",
      "Features: 48 - Score: 0.892 - Recall 0: 0.9517351416035101 - Recall 1: 0.8319327731092437\n",
      "Features: 49 - Score: 0.893 - Recall 0: 0.9533306741124851 - Recall 1: 0.8331332533013205\n",
      "Features: 50 - Score: 0.892 - Recall 0: 0.9509373753490228 - Recall 1: 0.8327330932372949\n",
      "Features: 51 - Score: 0.895 - Recall 0: 0.9509373753490228 - Recall 1: 0.8395358143257303\n",
      "Features: 52 - Score: 0.892 - Recall 0: 0.9497407259672915 - Recall 1: 0.834733893557423\n",
      "Features: 53 - Score: 0.895 - Recall 0: 0.9549262066214599 - Recall 1: 0.834733893557423\n",
      "Features: 54 - Score: 0.894 - Recall 0: 0.9517351416035101 - Recall 1: 0.8351340536214485\n",
      "Features: 55 - Score: 0.894 - Recall 0: 0.9529317909852413 - Recall 1: 0.8355342136854742\n",
      "Features: 56 - Score: 0.894 - Recall 0: 0.9529317909852413 - Recall 1: 0.8355342136854742\n",
      "Features: 57 - Score: 0.893 - Recall 0: 0.9509373753490228 - Recall 1: 0.834733893557423\n",
      "Features: 58 - Score: 0.895 - Recall 0: 0.9541284403669725 - Recall 1: 0.8351340536214485\n",
      "Features: 59 - Score: 0.894 - Recall 0: 0.9529317909852413 - Recall 1: 0.8355342136854742\n",
      "Features: 60 - Score: 0.894 - Recall 0: 0.9529317909852413 - Recall 1: 0.8355342136854742\n",
      "Features: 61 - Score: 0.895 - Recall 0: 0.9537295572397287 - Recall 1: 0.8367346938775511\n",
      "Features: 62 - Score: 0.894 - Recall 0: 0.9525329078579976 - Recall 1: 0.834733893557423\n",
      "Features: 63 - Score: 0.894 - Recall 0: 0.9525329078579976 - Recall 1: 0.834733893557423\n",
      "Features: 64 - Score: 0.893 - Recall 0: 0.9525329078579976 - Recall 1: 0.8331332533013205\n",
      "Features: 65 - Score: 0.893 - Recall 0: 0.9525329078579976 - Recall 1: 0.8331332533013205\n",
      "Features: 66 - Score: 0.896 - Recall 0: 0.9537295572397287 - Recall 1: 0.8379351740696278\n",
      "Features: 67 - Score: 0.895 - Recall 0: 0.9509373753490228 - Recall 1: 0.8379351740696278\n",
      "Features: 68 - Score: 0.894 - Recall 0: 0.9521340247307539 - Recall 1: 0.8355342136854742\n",
      "Features: 69 - Score: 0.893 - Recall 0: 0.9501396090945353 - Recall 1: 0.8359343737494997\n",
      "Features: 70 - Score: 0.893 - Recall 0: 0.9501396090945353 - Recall 1: 0.8351340536214485\n",
      "Features: 71 - Score: 0.894 - Recall 0: 0.9525329078579976 - Recall 1: 0.8351340536214485\n",
      "Features: 72 - Score: 0.894 - Recall 0: 0.9521340247307539 - Recall 1: 0.8355342136854742\n",
      "Features: 73 - Score: 0.894 - Recall 0: 0.9521340247307539 - Recall 1: 0.8355342136854742\n",
      "Features: 74 - Score: 0.894 - Recall 0: 0.9521340247307539 - Recall 1: 0.8355342136854742\n",
      "Features: 75 - Score: 0.892 - Recall 0: 0.9509373753490228 - Recall 1: 0.8319327731092437\n",
      "Features: 76 - Score: 0.895 - Recall 0: 0.9509373753490228 - Recall 1: 0.8383353341336535\n",
      "Features: 77 - Score: 0.894 - Recall 0: 0.9509373753490228 - Recall 1: 0.8363345338135254\n",
      "Features: 78 - Score: 0.893 - Recall 0: 0.950538492221779 - Recall 1: 0.8355342136854742\n",
      "Features: 79 - Score: 0.894 - Recall 0: 0.9517351416035101 - Recall 1: 0.8351340536214485\n",
      "Features: 80 - Score: 0.893 - Recall 0: 0.9513362584762665 - Recall 1: 0.834733893557423\n",
      "Features: 81 - Score: 0.894 - Recall 0: 0.9541284403669725 - Recall 1: 0.8343337334933973\n",
      "Features: 82 - Score: 0.894 - Recall 0: 0.9537295572397287 - Recall 1: 0.8335334133653461\n",
      "Features: 83 - Score: 0.894 - Recall 0: 0.9541284403669725 - Recall 1: 0.8327330932372949\n",
      "Features: 84 - Score: 0.893 - Recall 0: 0.9525329078579976 - Recall 1: 0.8335334133653461\n",
      "Features: 85 - Score: 0.894 - Recall 0: 0.9525329078579976 - Recall 1: 0.8343337334933973\n",
      "Features: 86 - Score: 0.904 - Recall 0: 0.9585161547666534 - Recall 1: 0.849139655862345\n",
      "Features: 87 - Score: 0.903 - Recall 0: 0.9573195053849222 - Recall 1: 0.849139655862345\n",
      "Features: 88 - Score: 0.903 - Recall 0: 0.9573195053849222 - Recall 1: 0.849139655862345\n",
      "Features: 89 - Score: 0.905 - Recall 0: 0.9605105704028719 - Recall 1: 0.8487394957983193\n",
      "Features: 90 - Score: 0.905 - Recall 0: 0.9605105704028719 - Recall 1: 0.8487394957983193\n",
      "Features: 91 - Score: 0.904 - Recall 0: 0.9593139210211408 - Recall 1: 0.8483393357342938\n",
      "Features: 92 - Score: 0.904 - Recall 0: 0.9613083366573594 - Recall 1: 0.8463385354141657\n",
      "Features: 93 - Score: 0.905 - Recall 0: 0.9585161547666534 - Recall 1: 0.8519407763105242\n",
      "Features: 94 - Score: 0.904 - Recall 0: 0.9581172716394096 - Recall 1: 0.8495398159263705\n",
      "Features: 95 - Score: 0.904 - Recall 0: 0.9581172716394096 - Recall 1: 0.8495398159263705\n",
      "Features: 96 - Score: 0.905 - Recall 0: 0.9589150378938971 - Recall 1: 0.8499399759903962\n",
      "Features: 97 - Score: 0.904 - Recall 0: 0.9601116872756282 - Recall 1: 0.8483393357342938\n",
      "Features: 98 - Score: 0.904 - Recall 0: 0.9601116872756282 - Recall 1: 0.8483393357342938\n",
      "Features: 99 - Score: 0.904 - Recall 0: 0.9597128041483846 - Recall 1: 0.8483393357342938\n",
      "Features: 100 - Score: 0.904 - Recall 0: 0.9597128041483846 - Recall 1: 0.8483393357342938\n",
      "Features: 101 - Score: 0.904 - Recall 0: 0.9597128041483846 - Recall 1: 0.8483393357342938\n",
      "Features: 102 - Score: 0.904 - Recall 0: 0.9593139210211408 - Recall 1: 0.8487394957983193\n",
      "Features: 103 - Score: 0.904 - Recall 0: 0.9593139210211408 - Recall 1: 0.8487394957983193\n",
      "Features: 104 - Score: 0.905 - Recall 0: 0.9605105704028719 - Recall 1: 0.8495398159263705\n",
      "Features: 105 - Score: 0.905 - Recall 0: 0.9605105704028719 - Recall 1: 0.8495398159263705\n",
      "Features: 106 - Score: 0.905 - Recall 0: 0.9605105704028719 - Recall 1: 0.8495398159263705\n",
      "Features: 107 - Score: 0.903 - Recall 0: 0.9597128041483846 - Recall 1: 0.8467386954781913\n",
      "Features: 108 - Score: 0.904 - Recall 0: 0.9597128041483846 - Recall 1: 0.8483393357342938\n",
      "Features: 109 - Score: 0.904 - Recall 0: 0.9597128041483846 - Recall 1: 0.8483393357342938\n",
      "Features: 110 - Score: 0.903 - Recall 0: 0.9585161547666534 - Recall 1: 0.8463385354141657\n",
      "Features: 111 - Score: 0.903 - Recall 0: 0.9585161547666534 - Recall 1: 0.8463385354141657\n",
      "Features: 112 - Score: 0.903 - Recall 0: 0.9585161547666534 - Recall 1: 0.8463385354141657\n",
      "Features: 113 - Score: 0.903 - Recall 0: 0.9585161547666534 - Recall 1: 0.8463385354141657\n",
      "Features: 114 - Score: 0.903 - Recall 0: 0.9585161547666534 - Recall 1: 0.8463385354141657\n",
      "Features: 115 - Score: 0.903 - Recall 0: 0.9605105704028719 - Recall 1: 0.8443377350940376\n",
      "Features: 116 - Score: 0.904 - Recall 0: 0.9593139210211408 - Recall 1: 0.8475390156062425\n",
      "Features: 117 - Score: 0.904 - Recall 0: 0.9593139210211408 - Recall 1: 0.8475390156062425\n",
      "Features: 118 - Score: 0.903 - Recall 0: 0.9581172716394096 - Recall 1: 0.8483393357342938\n",
      "Features: 119 - Score: 0.904 - Recall 0: 0.9593139210211408 - Recall 1: 0.8479391756702681\n",
      "Features: 120 - Score: 0.904 - Recall 0: 0.9593139210211408 - Recall 1: 0.8479391756702681\n",
      "Features: 121 - Score: 0.904 - Recall 0: 0.9593139210211408 - Recall 1: 0.8479391756702681\n",
      "Features: 122 - Score: 0.902 - Recall 0: 0.9565217391304348 - Recall 1: 0.8479391756702681\n",
      "Features: 123 - Score: 0.902 - Recall 0: 0.9565217391304348 - Recall 1: 0.8479391756702681\n",
      "Features: 124 - Score: 0.902 - Recall 0: 0.956122856003191 - Recall 1: 0.8471388555422169\n",
      "Features: 125 - Score: 0.903 - Recall 0: 0.957718388512166 - Recall 1: 0.8479391756702681\n",
      "Features: 126 - Score: 0.903 - Recall 0: 0.957718388512166 - Recall 1: 0.8479391756702681\n",
      "Features: 127 - Score: 0.903 - Recall 0: 0.957718388512166 - Recall 1: 0.8479391756702681\n",
      "Features: 128 - Score: 0.903 - Recall 0: 0.957718388512166 - Recall 1: 0.8479391756702681\n",
      "Features: 129 - Score: 0.902 - Recall 0: 0.9569206222576785 - Recall 1: 0.8467386954781913\n",
      "Features: 130 - Score: 0.902 - Recall 0: 0.9569206222576785 - Recall 1: 0.8475390156062425\n",
      "Features: 131 - Score: 0.902 - Recall 0: 0.9569206222576785 - Recall 1: 0.8475390156062425\n",
      "Features: 132 - Score: 0.902 - Recall 0: 0.9569206222576785 - Recall 1: 0.8475390156062425\n",
      "Features: 133 - Score: 0.902 - Recall 0: 0.9569206222576785 - Recall 1: 0.8475390156062425\n",
      "Features: 134 - Score: 0.902 - Recall 0: 0.9569206222576785 - Recall 1: 0.8475390156062425\n",
      "Features: 135 - Score: 0.903 - Recall 0: 0.957718388512166 - Recall 1: 0.8487394957983193\n",
      "Features: 136 - Score: 0.902 - Recall 0: 0.9569206222576785 - Recall 1: 0.84593837535014\n",
      "Features: 137 - Score: 0.902 - Recall 0: 0.9569206222576785 - Recall 1: 0.84593837535014\n",
      "Features: 138 - Score: 0.904 - Recall 0: 0.9597128041483846 - Recall 1: 0.8479391756702681\n",
      "Features: 139 - Score: 0.902 - Recall 0: 0.9581172716394096 - Recall 1: 0.8463385354141657\n",
      "Features: 140 - Score: 0.903 - Recall 0: 0.9581172716394096 - Recall 1: 0.8467386954781913\n",
      "Features: 141 - Score: 0.903 - Recall 0: 0.9581172716394096 - Recall 1: 0.8467386954781913\n",
      "Features: 142 - Score: 0.903 - Recall 0: 0.9581172716394096 - Recall 1: 0.8467386954781913\n",
      "Features: 143 - Score: 0.903 - Recall 0: 0.9581172716394096 - Recall 1: 0.8467386954781913\n",
      "Features: 144 - Score: 0.903 - Recall 0: 0.9573195053849222 - Recall 1: 0.8479391756702681\n",
      "Features: 145 - Score: 0.903 - Recall 0: 0.9573195053849222 - Recall 1: 0.8479391756702681\n",
      "Features: 146 - Score: 0.903 - Recall 0: 0.9573195053849222 - Recall 1: 0.8479391756702681\n",
      "Features: 147 - Score: 0.903 - Recall 0: 0.9573195053849222 - Recall 1: 0.8479391756702681\n",
      "Features: 148 - Score: 0.903 - Recall 0: 0.9573195053849222 - Recall 1: 0.8479391756702681\n",
      "Features: 149 - Score: 0.903 - Recall 0: 0.9573195053849222 - Recall 1: 0.8479391756702681\n",
      "Features: 150 - Score: 0.904 - Recall 0: 0.9593139210211408 - Recall 1: 0.8483393357342938\n",
      "Features: 151 - Score: 0.904 - Recall 0: 0.9593139210211408 - Recall 1: 0.8483393357342938\n",
      "Features: 152 - Score: 0.904 - Recall 0: 0.9593139210211408 - Recall 1: 0.8483393357342938\n",
      "Features: 153 - Score: 0.904 - Recall 0: 0.9593139210211408 - Recall 1: 0.8483393357342938\n",
      "Features: 154 - Score: 0.904 - Recall 0: 0.9593139210211408 - Recall 1: 0.8483393357342938\n",
      "Features: 155 - Score: 0.904 - Recall 0: 0.9593139210211408 - Recall 1: 0.8483393357342938\n",
      "Features: 156 - Score: 0.903 - Recall 0: 0.9581172716394096 - Recall 1: 0.8475390156062425\n",
      "Features: 157 - Score: 0.903 - Recall 0: 0.9581172716394096 - Recall 1: 0.8475390156062425\n",
      "Features: 158 - Score: 0.903 - Recall 0: 0.9581172716394096 - Recall 1: 0.8475390156062425\n",
      "Features: 159 - Score: 0.903 - Recall 0: 0.9581172716394096 - Recall 1: 0.8475390156062425\n",
      "Features: 160 - Score: 0.903 - Recall 0: 0.9581172716394096 - Recall 1: 0.8475390156062425\n",
      "Features: 161 - Score: 0.903 - Recall 0: 0.9581172716394096 - Recall 1: 0.8475390156062425\n",
      "Features: 162 - Score: 0.903 - Recall 0: 0.9581172716394096 - Recall 1: 0.8475390156062425\n",
      "Features: 163 - Score: 0.903 - Recall 0: 0.9581172716394096 - Recall 1: 0.8475390156062425\n",
      "Features: 164 - Score: 0.903 - Recall 0: 0.9581172716394096 - Recall 1: 0.8475390156062425\n",
      "Features: 165 - Score: 0.9 - Recall 0: 0.9565217391304348 - Recall 1: 0.843937575030012\n",
      "Features: 166 - Score: 0.9 - Recall 0: 0.9565217391304348 - Recall 1: 0.843937575030012\n",
      "Features: 167 - Score: 0.9 - Recall 0: 0.9565217391304348 - Recall 1: 0.843937575030012\n",
      "Features: 168 - Score: 0.9 - Recall 0: 0.9565217391304348 - Recall 1: 0.843937575030012\n",
      "Features: 169 - Score: 0.9 - Recall 0: 0.9565217391304348 - Recall 1: 0.843937575030012\n",
      "Features: 170 - Score: 0.902 - Recall 0: 0.9569206222576785 - Recall 1: 0.8475390156062425\n",
      "Features: 171 - Score: 0.902 - Recall 0: 0.9569206222576785 - Recall 1: 0.8475390156062425\n",
      "Features: 172 - Score: 0.902 - Recall 0: 0.9569206222576785 - Recall 1: 0.8475390156062425\n",
      "Features: 173 - Score: 0.902 - Recall 0: 0.9569206222576785 - Recall 1: 0.8475390156062425\n",
      "Features: 174 - Score: 0.902 - Recall 0: 0.9569206222576785 - Recall 1: 0.8475390156062425\n",
      "Features: 175 - Score: 0.902 - Recall 0: 0.9569206222576785 - Recall 1: 0.8475390156062425\n",
      "Features: 176 - Score: 0.902 - Recall 0: 0.9569206222576785 - Recall 1: 0.8475390156062425\n",
      "Features: 177 - Score: 0.902 - Recall 0: 0.9569206222576785 - Recall 1: 0.8475390156062425\n",
      "Features: 178 - Score: 0.902 - Recall 0: 0.9569206222576785 - Recall 1: 0.8475390156062425\n",
      "Features: 179 - Score: 0.901 - Recall 0: 0.9553250897487037 - Recall 1: 0.8463385354141657\n",
      "Features: 180 - Score: 0.901 - Recall 0: 0.9553250897487037 - Recall 1: 0.8463385354141657\n",
      "Features: 181 - Score: 0.901 - Recall 0: 0.9553250897487037 - Recall 1: 0.8463385354141657\n",
      "Features: 182 - Score: 0.901 - Recall 0: 0.9553250897487037 - Recall 1: 0.8463385354141657\n",
      "Features: 183 - Score: 0.901 - Recall 0: 0.9553250897487037 - Recall 1: 0.8463385354141657\n",
      "Features: 184 - Score: 0.901 - Recall 0: 0.9553250897487037 - Recall 1: 0.8463385354141657\n",
      "Features: 185 - Score: 0.901 - Recall 0: 0.9553250897487037 - Recall 1: 0.8463385354141657\n",
      "Features: 186 - Score: 0.901 - Recall 0: 0.9553250897487037 - Recall 1: 0.8463385354141657\n",
      "Features: 187 - Score: 0.901 - Recall 0: 0.9553250897487037 - Recall 1: 0.8463385354141657\n",
      "Features: 188 - Score: 0.901 - Recall 0: 0.9553250897487037 - Recall 1: 0.8463385354141657\n",
      "Features: 189 - Score: 0.901 - Recall 0: 0.9553250897487037 - Recall 1: 0.8463385354141657\n",
      "Features: 190 - Score: 0.903 - Recall 0: 0.9589150378938971 - Recall 1: 0.8467386954781913\n",
      "Features: 191 - Score: 0.903 - Recall 0: 0.9589150378938971 - Recall 1: 0.8467386954781913\n",
      "Features: 192 - Score: 0.903 - Recall 0: 0.9589150378938971 - Recall 1: 0.8467386954781913\n",
      "Features: 193 - Score: 0.903 - Recall 0: 0.9589150378938971 - Recall 1: 0.8467386954781913\n",
      "Features: 194 - Score: 0.902 - Recall 0: 0.9585161547666534 - Recall 1: 0.84593837535014\n",
      "Features: 195 - Score: 0.902 - Recall 0: 0.957718388512166 - Recall 1: 0.84593837535014\n",
      "Features: 196 - Score: 0.902 - Recall 0: 0.957718388512166 - Recall 1: 0.84593837535014\n",
      "Features: 197 - Score: 0.902 - Recall 0: 0.957718388512166 - Recall 1: 0.84593837535014\n",
      "Features: 198 - Score: 0.902 - Recall 0: 0.957718388512166 - Recall 1: 0.84593837535014\n",
      "Features: 199 - Score: 0.902 - Recall 0: 0.957718388512166 - Recall 1: 0.84593837535014\n",
      "Features: 200 - Score: 0.902 - Recall 0: 0.957718388512166 - Recall 1: 0.84593837535014\n",
      "Features: 201 - Score: 0.902 - Recall 0: 0.957718388512166 - Recall 1: 0.84593837535014\n",
      "Features: 202 - Score: 0.902 - Recall 0: 0.957718388512166 - Recall 1: 0.84593837535014\n",
      "Features: 203 - Score: 0.902 - Recall 0: 0.957718388512166 - Recall 1: 0.84593837535014\n",
      "Features: 204 - Score: 0.902 - Recall 0: 0.957718388512166 - Recall 1: 0.84593837535014\n",
      "Features: 205 - Score: 0.902 - Recall 0: 0.957718388512166 - Recall 1: 0.84593837535014\n",
      "Features: 206 - Score: 0.902 - Recall 0: 0.957718388512166 - Recall 1: 0.84593837535014\n",
      "Features: 207 - Score: 0.902 - Recall 0: 0.957718388512166 - Recall 1: 0.84593837535014\n",
      "Features: 208 - Score: 0.902 - Recall 0: 0.957718388512166 - Recall 1: 0.84593837535014\n",
      "Features: 209 - Score: 0.902 - Recall 0: 0.9569206222576785 - Recall 1: 0.8467386954781913\n",
      "Features: 210 - Score: 0.902 - Recall 0: 0.9569206222576785 - Recall 1: 0.8467386954781913\n",
      "Features: 211 - Score: 0.902 - Recall 0: 0.9569206222576785 - Recall 1: 0.8467386954781913\n",
      "Features: 212 - Score: 0.902 - Recall 0: 0.9569206222576785 - Recall 1: 0.8467386954781913\n",
      "Features: 213 - Score: 0.902 - Recall 0: 0.9569206222576785 - Recall 1: 0.8467386954781913\n",
      "Features: 214 - Score: 0.902 - Recall 0: 0.9569206222576785 - Recall 1: 0.8467386954781913\n",
      "Features: 215 - Score: 0.902 - Recall 0: 0.9569206222576785 - Recall 1: 0.8467386954781913\n",
      "Features: 216 - Score: 0.902 - Recall 0: 0.9569206222576785 - Recall 1: 0.8467386954781913\n",
      "Features: 217 - Score: 0.903 - Recall 0: 0.9589150378938971 - Recall 1: 0.84593837535014\n",
      "Features: 218 - Score: 0.903 - Recall 0: 0.9589150378938971 - Recall 1: 0.84593837535014\n",
      "Features: 219 - Score: 0.902 - Recall 0: 0.9565217391304348 - Recall 1: 0.8475390156062425\n",
      "Features: 220 - Score: 0.903 - Recall 0: 0.9573195053849222 - Recall 1: 0.8479391756702681\n",
      "Features: 221 - Score: 0.903 - Recall 0: 0.9573195053849222 - Recall 1: 0.8479391756702681\n",
      "Features: 222 - Score: 0.903 - Recall 0: 0.9573195053849222 - Recall 1: 0.8479391756702681\n",
      "Features: 223 - Score: 0.903 - Recall 0: 0.9573195053849222 - Recall 1: 0.8479391756702681\n",
      "Features: 224 - Score: 0.903 - Recall 0: 0.9573195053849222 - Recall 1: 0.8479391756702681\n",
      "Features: 225 - Score: 0.903 - Recall 0: 0.9573195053849222 - Recall 1: 0.8479391756702681\n",
      "Features: 226 - Score: 0.903 - Recall 0: 0.9573195053849222 - Recall 1: 0.8479391756702681\n",
      "Features: 227 - Score: 0.903 - Recall 0: 0.9573195053849222 - Recall 1: 0.8479391756702681\n",
      "Features: 228 - Score: 0.903 - Recall 0: 0.9573195053849222 - Recall 1: 0.8479391756702681\n",
      "Features: 229 - Score: 0.903 - Recall 0: 0.9573195053849222 - Recall 1: 0.8479391756702681\n",
      "Features: 230 - Score: 0.904 - Recall 0: 0.9597128041483846 - Recall 1: 0.8487394957983193\n",
      "Features: 231 - Score: 0.904 - Recall 0: 0.9597128041483846 - Recall 1: 0.8487394957983193\n",
      "Features: 232 - Score: 0.904 - Recall 0: 0.9597128041483846 - Recall 1: 0.8487394957983193\n",
      "Features: 233 - Score: 0.904 - Recall 0: 0.9597128041483846 - Recall 1: 0.8487394957983193\n",
      "Features: 234 - Score: 0.904 - Recall 0: 0.9597128041483846 - Recall 1: 0.8487394957983193\n",
      "Features: 235 - Score: 0.904 - Recall 0: 0.9597128041483846 - Recall 1: 0.8487394957983193\n",
      "Features: 236 - Score: 0.904 - Recall 0: 0.9597128041483846 - Recall 1: 0.8483393357342938\n",
      "Features: 237 - Score: 0.904 - Recall 0: 0.9597128041483846 - Recall 1: 0.8483393357342938\n",
      "Features: 238 - Score: 0.903 - Recall 0: 0.9581172716394096 - Recall 1: 0.8479391756702681\n",
      "Features: 239 - Score: 0.903 - Recall 0: 0.9581172716394096 - Recall 1: 0.8479391756702681\n",
      "Features: 240 - Score: 0.903 - Recall 0: 0.9581172716394096 - Recall 1: 0.8479391756702681\n",
      "Features: 241 - Score: 0.903 - Recall 0: 0.9581172716394096 - Recall 1: 0.8479391756702681\n",
      "Features: 242 - Score: 0.903 - Recall 0: 0.9581172716394096 - Recall 1: 0.8479391756702681\n",
      "Features: 243 - Score: 0.903 - Recall 0: 0.9581172716394096 - Recall 1: 0.8479391756702681\n",
      "Features: 244 - Score: 0.902 - Recall 0: 0.9565217391304348 - Recall 1: 0.8475390156062425\n",
      "Features: 245 - Score: 0.902 - Recall 0: 0.9565217391304348 - Recall 1: 0.8475390156062425\n",
      "Features: 246 - Score: 0.902 - Recall 0: 0.9565217391304348 - Recall 1: 0.8475390156062425\n",
      "Features: 247 - Score: 0.902 - Recall 0: 0.956122856003191 - Recall 1: 0.8471388555422169\n",
      "Features: 248 - Score: 0.902 - Recall 0: 0.9569206222576785 - Recall 1: 0.8471388555422169\n",
      "Features: 249 - Score: 0.902 - Recall 0: 0.9569206222576785 - Recall 1: 0.8471388555422169\n",
      "Features: 250 - Score: 0.903 - Recall 0: 0.9581172716394096 - Recall 1: 0.8471388555422169\n",
      "Features: 251 - Score: 0.903 - Recall 0: 0.9585161547666534 - Recall 1: 0.8479391756702681\n",
      "Features: 252 - Score: 0.903 - Recall 0: 0.9585161547666534 - Recall 1: 0.8479391756702681\n",
      "Features: 253 - Score: 0.903 - Recall 0: 0.9585161547666534 - Recall 1: 0.8479391756702681\n",
      "Features: 254 - Score: 0.903 - Recall 0: 0.9585161547666534 - Recall 1: 0.8479391756702681\n",
      "Features: 255 - Score: 0.903 - Recall 0: 0.9581172716394096 - Recall 1: 0.8475390156062425\n",
      "Features: 256 - Score: 0.903 - Recall 0: 0.9581172716394096 - Recall 1: 0.8475390156062425\n",
      "Features: 257 - Score: 0.903 - Recall 0: 0.9581172716394096 - Recall 1: 0.8475390156062425\n",
      "Features: 258 - Score: 0.905 - Recall 0: 0.9609094535301157 - Recall 1: 0.8483393357342938\n",
      "Features: 259 - Score: 0.905 - Recall 0: 0.9609094535301157 - Recall 1: 0.8483393357342938\n",
      "Features: 260 - Score: 0.905 - Recall 0: 0.9609094535301157 - Recall 1: 0.8483393357342938\n",
      "Features: 261 - Score: 0.905 - Recall 0: 0.9609094535301157 - Recall 1: 0.8483393357342938\n",
      "Features: 262 - Score: 0.905 - Recall 0: 0.9609094535301157 - Recall 1: 0.8483393357342938\n",
      "Features: 263 - Score: 0.905 - Recall 0: 0.9609094535301157 - Recall 1: 0.8483393357342938\n",
      "Features: 264 - Score: 0.905 - Recall 0: 0.9609094535301157 - Recall 1: 0.8483393357342938\n",
      "Features: 265 - Score: 0.905 - Recall 0: 0.9609094535301157 - Recall 1: 0.8483393357342938\n",
      "Features: 266 - Score: 0.905 - Recall 0: 0.9609094535301157 - Recall 1: 0.8483393357342938\n",
      "Features: 267 - Score: 0.905 - Recall 0: 0.9609094535301157 - Recall 1: 0.8483393357342938\n",
      "Features: 268 - Score: 0.905 - Recall 0: 0.9609094535301157 - Recall 1: 0.8483393357342938\n",
      "Features: 269 - Score: 0.905 - Recall 0: 0.9609094535301157 - Recall 1: 0.8483393357342938\n",
      "Features: 270 - Score: 0.905 - Recall 0: 0.9609094535301157 - Recall 1: 0.8483393357342938\n",
      "Features: 271 - Score: 0.905 - Recall 0: 0.9609094535301157 - Recall 1: 0.8483393357342938\n",
      "Features: 272 - Score: 0.905 - Recall 0: 0.9609094535301157 - Recall 1: 0.8483393357342938\n",
      "Features: 273 - Score: 0.905 - Recall 0: 0.9609094535301157 - Recall 1: 0.8483393357342938\n",
      "Features: 274 - Score: 0.905 - Recall 0: 0.9609094535301157 - Recall 1: 0.8483393357342938\n",
      "Features: 275 - Score: 0.905 - Recall 0: 0.9609094535301157 - Recall 1: 0.8483393357342938\n",
      "Features: 276 - Score: 0.905 - Recall 0: 0.9609094535301157 - Recall 1: 0.8483393357342938\n",
      "Features: 277 - Score: 0.905 - Recall 0: 0.9609094535301157 - Recall 1: 0.8483393357342938\n",
      "Features: 278 - Score: 0.905 - Recall 0: 0.9609094535301157 - Recall 1: 0.8483393357342938\n",
      "Features: 279 - Score: 0.904 - Recall 0: 0.9585161547666534 - Recall 1: 0.8499399759903962\n",
      "Features: 280 - Score: 0.904 - Recall 0: 0.9585161547666534 - Recall 1: 0.8499399759903962\n",
      "Features: 281 - Score: 0.904 - Recall 0: 0.9585161547666534 - Recall 1: 0.8499399759903962\n",
      "Features: 282 - Score: 0.904 - Recall 0: 0.957718388512166 - Recall 1: 0.849139655862345\n",
      "Features: 283 - Score: 0.904 - Recall 0: 0.957718388512166 - Recall 1: 0.849139655862345\n",
      "Features: 284 - Score: 0.904 - Recall 0: 0.957718388512166 - Recall 1: 0.849139655862345\n",
      "Features: 285 - Score: 0.904 - Recall 0: 0.957718388512166 - Recall 1: 0.849139655862345\n",
      "Features: 286 - Score: 0.904 - Recall 0: 0.957718388512166 - Recall 1: 0.849139655862345\n",
      "Features: 287 - Score: 0.905 - Recall 0: 0.9593139210211408 - Recall 1: 0.8499399759903962\n",
      "Features: 288 - Score: 0.904 - Recall 0: 0.9573195053849222 - Recall 1: 0.851140456182473\n",
      "Features: 289 - Score: 0.906 - Recall 0: 0.9613083366573594 - Recall 1: 0.8499399759903962\n",
      "Features: 290 - Score: 0.906 - Recall 0: 0.9613083366573594 - Recall 1: 0.8499399759903962\n",
      "Features: 291 - Score: 0.906 - Recall 0: 0.9613083366573594 - Recall 1: 0.8499399759903962\n",
      "Features: 292 - Score: 0.906 - Recall 0: 0.9613083366573594 - Recall 1: 0.8499399759903962\n",
      "Features: 293 - Score: 0.903 - Recall 0: 0.9569206222576785 - Recall 1: 0.849139655862345\n",
      "Features: 294 - Score: 0.903 - Recall 0: 0.9569206222576785 - Recall 1: 0.849139655862345\n",
      "Features: 295 - Score: 0.903 - Recall 0: 0.9569206222576785 - Recall 1: 0.849139655862345\n",
      "Features: 296 - Score: 0.903 - Recall 0: 0.9569206222576785 - Recall 1: 0.849139655862345\n",
      "Features: 297 - Score: 0.903 - Recall 0: 0.9569206222576785 - Recall 1: 0.849139655862345\n",
      "Features: 298 - Score: 0.903 - Recall 0: 0.9569206222576785 - Recall 1: 0.849139655862345\n",
      "Features: 299 - Score: 0.903 - Recall 0: 0.9569206222576785 - Recall 1: 0.849139655862345\n",
      "Features: 300 - Score: 0.903 - Recall 0: 0.956122856003191 - Recall 1: 0.849139655862345\n",
      "Features: 301 - Score: 0.905 - Recall 0: 0.957718388512166 - Recall 1: 0.851140456182473\n",
      "Features: 302 - Score: 0.905 - Recall 0: 0.957718388512166 - Recall 1: 0.851140456182473\n",
      "Features: 303 - Score: 0.905 - Recall 0: 0.957718388512166 - Recall 1: 0.851140456182473\n",
      "Features: 304 - Score: 0.905 - Recall 0: 0.957718388512166 - Recall 1: 0.851140456182473\n",
      "Features: 305 - Score: 0.905 - Recall 0: 0.957718388512166 - Recall 1: 0.851140456182473\n",
      "Features: 306 - Score: 0.905 - Recall 0: 0.957718388512166 - Recall 1: 0.851140456182473\n",
      "Features: 307 - Score: 0.905 - Recall 0: 0.957718388512166 - Recall 1: 0.851140456182473\n",
      "Features: 308 - Score: 0.905 - Recall 0: 0.957718388512166 - Recall 1: 0.851140456182473\n",
      "Features: 309 - Score: 0.903 - Recall 0: 0.9585161547666534 - Recall 1: 0.8471388555422169\n",
      "Features: 310 - Score: 0.903 - Recall 0: 0.9585161547666534 - Recall 1: 0.8471388555422169\n",
      "Features: 311 - Score: 0.903 - Recall 0: 0.9585161547666534 - Recall 1: 0.8471388555422169\n",
      "Features: 312 - Score: 0.904 - Recall 0: 0.9585161547666534 - Recall 1: 0.8499399759903962\n",
      "Features: 313 - Score: 0.904 - Recall 0: 0.9585161547666534 - Recall 1: 0.8499399759903962\n",
      "Features: 314 - Score: 0.904 - Recall 0: 0.9585161547666534 - Recall 1: 0.8499399759903962\n",
      "Features: 315 - Score: 0.904 - Recall 0: 0.9585161547666534 - Recall 1: 0.8499399759903962\n",
      "Features: 316 - Score: 0.904 - Recall 0: 0.9585161547666534 - Recall 1: 0.8499399759903962\n",
      "Features: 317 - Score: 0.904 - Recall 0: 0.9565217391304348 - Recall 1: 0.8515406162464986\n",
      "Features: 318 - Score: 0.904 - Recall 0: 0.9565217391304348 - Recall 1: 0.8515406162464986\n",
      "Features: 319 - Score: 0.904 - Recall 0: 0.9565217391304348 - Recall 1: 0.8515406162464986\n",
      "Features: 320 - Score: 0.904 - Recall 0: 0.9565217391304348 - Recall 1: 0.8515406162464986\n",
      "Features: 321 - Score: 0.904 - Recall 0: 0.9565217391304348 - Recall 1: 0.8515406162464986\n",
      "Features: 322 - Score: 0.904 - Recall 0: 0.9565217391304348 - Recall 1: 0.8515406162464986\n",
      "Features: 323 - Score: 0.904 - Recall 0: 0.9581172716394096 - Recall 1: 0.8499399759903962\n",
      "Features: 324 - Score: 0.904 - Recall 0: 0.9581172716394096 - Recall 1: 0.8499399759903962\n",
      "Features: 325 - Score: 0.903 - Recall 0: 0.9581172716394096 - Recall 1: 0.8483393357342938\n",
      "Features: 326 - Score: 0.903 - Recall 0: 0.9581172716394096 - Recall 1: 0.8483393357342938\n",
      "Features: 327 - Score: 0.903 - Recall 0: 0.9581172716394096 - Recall 1: 0.8483393357342938\n",
      "Features: 328 - Score: 0.903 - Recall 0: 0.9581172716394096 - Recall 1: 0.8483393357342938\n",
      "Features: 329 - Score: 0.903 - Recall 0: 0.9581172716394096 - Recall 1: 0.8483393357342938\n",
      "Features: 330 - Score: 0.903 - Recall 0: 0.9581172716394096 - Recall 1: 0.8483393357342938\n",
      "Features: 331 - Score: 0.903 - Recall 0: 0.9581172716394096 - Recall 1: 0.8483393357342938\n",
      "Features: 332 - Score: 0.903 - Recall 0: 0.9581172716394096 - Recall 1: 0.8483393357342938\n",
      "Features: 333 - Score: 0.903 - Recall 0: 0.9581172716394096 - Recall 1: 0.8483393357342938\n",
      "Features: 334 - Score: 0.903 - Recall 0: 0.9581172716394096 - Recall 1: 0.8483393357342938\n",
      "Features: 335 - Score: 0.903 - Recall 0: 0.9581172716394096 - Recall 1: 0.8483393357342938\n",
      "Features: 336 - Score: 0.903 - Recall 0: 0.9581172716394096 - Recall 1: 0.8483393357342938\n",
      "Features: 337 - Score: 0.903 - Recall 0: 0.9581172716394096 - Recall 1: 0.8483393357342938\n",
      "Features: 338 - Score: 0.903 - Recall 0: 0.9581172716394096 - Recall 1: 0.8483393357342938\n",
      "Features: 339 - Score: 0.903 - Recall 0: 0.9581172716394096 - Recall 1: 0.8483393357342938\n",
      "Features: 340 - Score: 0.903 - Recall 0: 0.9581172716394096 - Recall 1: 0.8483393357342938\n",
      "Features: 341 - Score: 0.903 - Recall 0: 0.9581172716394096 - Recall 1: 0.8483393357342938\n",
      "Features: 342 - Score: 0.903 - Recall 0: 0.9581172716394096 - Recall 1: 0.8483393357342938\n",
      "Features: 343 - Score: 0.903 - Recall 0: 0.9581172716394096 - Recall 1: 0.8483393357342938\n",
      "Features: 344 - Score: 0.903 - Recall 0: 0.9581172716394096 - Recall 1: 0.8483393357342938\n",
      "Features: 345 - Score: 0.903 - Recall 0: 0.9581172716394096 - Recall 1: 0.8483393357342938\n",
      "Features: 346 - Score: 0.903 - Recall 0: 0.9581172716394096 - Recall 1: 0.8483393357342938\n",
      "Features: 347 - Score: 0.903 - Recall 0: 0.9581172716394096 - Recall 1: 0.8483393357342938\n",
      "Features: 348 - Score: 0.903 - Recall 0: 0.9581172716394096 - Recall 1: 0.8483393357342938\n",
      "Features: 349 - Score: 0.903 - Recall 0: 0.9581172716394096 - Recall 1: 0.8483393357342938\n",
      "Features: 350 - Score: 0.903 - Recall 0: 0.9581172716394096 - Recall 1: 0.8483393357342938\n",
      "Features: 351 - Score: 0.903 - Recall 0: 0.9581172716394096 - Recall 1: 0.8483393357342938\n",
      "Features: 352 - Score: 0.903 - Recall 0: 0.9581172716394096 - Recall 1: 0.8483393357342938\n",
      "Features: 353 - Score: 0.903 - Recall 0: 0.9581172716394096 - Recall 1: 0.8483393357342938\n",
      "Features: 354 - Score: 0.903 - Recall 0: 0.9581172716394096 - Recall 1: 0.8483393357342938\n",
      "Features: 355 - Score: 0.903 - Recall 0: 0.9581172716394096 - Recall 1: 0.8483393357342938\n",
      "Features: 356 - Score: 0.903 - Recall 0: 0.9581172716394096 - Recall 1: 0.8483393357342938\n",
      "Features: 357 - Score: 0.904 - Recall 0: 0.9581172716394096 - Recall 1: 0.8487394957983193\n",
      "Features: 358 - Score: 0.904 - Recall 0: 0.9581172716394096 - Recall 1: 0.8487394957983193\n",
      "Features: 359 - Score: 0.903 - Recall 0: 0.9569206222576785 - Recall 1: 0.849139655862345\n",
      "Features: 360 - Score: 0.903 - Recall 0: 0.9569206222576785 - Recall 1: 0.849139655862345\n",
      "Features: 361 - Score: 0.903 - Recall 0: 0.9569206222576785 - Recall 1: 0.849139655862345\n",
      "Features: 362 - Score: 0.904 - Recall 0: 0.9565217391304348 - Recall 1: 0.851140456182473\n",
      "Features: 363 - Score: 0.904 - Recall 0: 0.9573195053849222 - Recall 1: 0.8507402961184474\n",
      "Features: 364 - Score: 0.904 - Recall 0: 0.9573195053849222 - Recall 1: 0.8507402961184474\n",
      "Features: 365 - Score: 0.904 - Recall 0: 0.9573195053849222 - Recall 1: 0.8507402961184474\n",
      "Features: 366 - Score: 0.904 - Recall 0: 0.9573195053849222 - Recall 1: 0.8507402961184474\n",
      "Features: 367 - Score: 0.904 - Recall 0: 0.9569206222576785 - Recall 1: 0.8499399759903962\n",
      "Features: 368 - Score: 0.904 - Recall 0: 0.9569206222576785 - Recall 1: 0.8499399759903962\n",
      "Features: 369 - Score: 0.904 - Recall 0: 0.9569206222576785 - Recall 1: 0.8499399759903962\n",
      "Features: 370 - Score: 0.904 - Recall 0: 0.9569206222576785 - Recall 1: 0.8499399759903962\n",
      "Features: 371 - Score: 0.904 - Recall 0: 0.9569206222576785 - Recall 1: 0.8499399759903962\n",
      "Features: 372 - Score: 0.904 - Recall 0: 0.9569206222576785 - Recall 1: 0.8499399759903962\n",
      "Features: 373 - Score: 0.904 - Recall 0: 0.9569206222576785 - Recall 1: 0.8499399759903962\n",
      "Features: 374 - Score: 0.904 - Recall 0: 0.9569206222576785 - Recall 1: 0.8499399759903962\n",
      "Features: 375 - Score: 0.904 - Recall 0: 0.9569206222576785 - Recall 1: 0.8499399759903962\n",
      "Features: 376 - Score: 0.904 - Recall 0: 0.9569206222576785 - Recall 1: 0.8499399759903962\n",
      "Features: 377 - Score: 0.904 - Recall 0: 0.9569206222576785 - Recall 1: 0.8499399759903962\n",
      "Features: 378 - Score: 0.904 - Recall 0: 0.9569206222576785 - Recall 1: 0.8499399759903962\n",
      "Features: 379 - Score: 0.904 - Recall 0: 0.9569206222576785 - Recall 1: 0.8499399759903962\n",
      "Features: 380 - Score: 0.904 - Recall 0: 0.9569206222576785 - Recall 1: 0.8499399759903962\n",
      "Features: 381 - Score: 0.904 - Recall 0: 0.9569206222576785 - Recall 1: 0.8499399759903962\n",
      "Features: 382 - Score: 0.904 - Recall 0: 0.9569206222576785 - Recall 1: 0.8499399759903962\n",
      "Features: 383 - Score: 0.904 - Recall 0: 0.9569206222576785 - Recall 1: 0.8499399759903962\n",
      "Features: 384 - Score: 0.904 - Recall 0: 0.9569206222576785 - Recall 1: 0.8499399759903962\n",
      "Features: 385 - Score: 0.904 - Recall 0: 0.9569206222576785 - Recall 1: 0.8499399759903962\n",
      "Features: 386 - Score: 0.903 - Recall 0: 0.9557239728759473 - Recall 1: 0.849139655862345\n",
      "Features: 387 - Score: 0.903 - Recall 0: 0.9557239728759473 - Recall 1: 0.849139655862345\n",
      "Features: 388 - Score: 0.903 - Recall 0: 0.9557239728759473 - Recall 1: 0.849139655862345\n",
      "Features: 389 - Score: 0.904 - Recall 0: 0.9569206222576785 - Recall 1: 0.8499399759903962\n",
      "Features: 390 - Score: 0.904 - Recall 0: 0.9569206222576785 - Recall 1: 0.8499399759903962\n",
      "Features: 391 - Score: 0.904 - Recall 0: 0.9569206222576785 - Recall 1: 0.8499399759903962\n",
      "Features: 392 - Score: 0.904 - Recall 0: 0.9569206222576785 - Recall 1: 0.8499399759903962\n",
      "Features: 393 - Score: 0.904 - Recall 0: 0.9569206222576785 - Recall 1: 0.8499399759903962\n",
      "Features: 394 - Score: 0.904 - Recall 0: 0.9569206222576785 - Recall 1: 0.8499399759903962\n",
      "Features: 395 - Score: 0.904 - Recall 0: 0.9581172716394096 - Recall 1: 0.8503401360544217\n",
      "Features: 396 - Score: 0.904 - Recall 0: 0.9581172716394096 - Recall 1: 0.8503401360544217\n",
      "Features: 397 - Score: 0.904 - Recall 0: 0.9581172716394096 - Recall 1: 0.8503401360544217\n",
      "Features: 398 - Score: 0.904 - Recall 0: 0.956122856003191 - Recall 1: 0.8507402961184474\n",
      "Features: 399 - Score: 0.904 - Recall 0: 0.956122856003191 - Recall 1: 0.8507402961184474\n",
      "Features: 400 - Score: 0.904 - Recall 0: 0.956122856003191 - Recall 1: 0.8507402961184474\n",
      "Features: 401 - Score: 0.904 - Recall 0: 0.956122856003191 - Recall 1: 0.8507402961184474\n",
      "Features: 402 - Score: 0.904 - Recall 0: 0.956122856003191 - Recall 1: 0.8507402961184474\n",
      "Features: 403 - Score: 0.904 - Recall 0: 0.956122856003191 - Recall 1: 0.8507402961184474\n",
      "Features: 404 - Score: 0.904 - Recall 0: 0.956122856003191 - Recall 1: 0.8507402961184474\n",
      "Features: 405 - Score: 0.904 - Recall 0: 0.956122856003191 - Recall 1: 0.8507402961184474\n",
      "Features: 406 - Score: 0.904 - Recall 0: 0.956122856003191 - Recall 1: 0.8507402961184474\n",
      "Features: 407 - Score: 0.904 - Recall 0: 0.956122856003191 - Recall 1: 0.8507402961184474\n",
      "Features: 408 - Score: 0.904 - Recall 0: 0.956122856003191 - Recall 1: 0.8507402961184474\n",
      "Features: 409 - Score: 0.904 - Recall 0: 0.956122856003191 - Recall 1: 0.8507402961184474\n",
      "Features: 410 - Score: 0.904 - Recall 0: 0.956122856003191 - Recall 1: 0.8507402961184474\n",
      "Features: 411 - Score: 0.904 - Recall 0: 0.956122856003191 - Recall 1: 0.8507402961184474\n",
      "Features: 412 - Score: 0.902 - Recall 0: 0.9549262066214599 - Recall 1: 0.8487394957983193\n",
      "Features: 413 - Score: 0.903 - Recall 0: 0.9573195053849222 - Recall 1: 0.849139655862345\n",
      "Features: 414 - Score: 0.903 - Recall 0: 0.9573195053849222 - Recall 1: 0.849139655862345\n",
      "Features: 415 - Score: 0.903 - Recall 0: 0.9573195053849222 - Recall 1: 0.849139655862345\n",
      "Features: 416 - Score: 0.903 - Recall 0: 0.9573195053849222 - Recall 1: 0.849139655862345\n",
      "Features: 417 - Score: 0.903 - Recall 0: 0.9573195053849222 - Recall 1: 0.849139655862345\n",
      "Features: 418 - Score: 0.903 - Recall 0: 0.9573195053849222 - Recall 1: 0.849139655862345\n",
      "Features: 419 - Score: 0.903 - Recall 0: 0.9573195053849222 - Recall 1: 0.849139655862345\n",
      "Features: 420 - Score: 0.903 - Recall 0: 0.9573195053849222 - Recall 1: 0.849139655862345\n",
      "Features: 421 - Score: 0.903 - Recall 0: 0.9565217391304348 - Recall 1: 0.8487394957983193\n",
      "Features: 422 - Score: 0.903 - Recall 0: 0.9565217391304348 - Recall 1: 0.8487394957983193\n",
      "Features: 423 - Score: 0.903 - Recall 0: 0.9565217391304348 - Recall 1: 0.8487394957983193\n",
      "Features: 424 - Score: 0.904 - Recall 0: 0.9569206222576785 - Recall 1: 0.851140456182473\n",
      "Features: 425 - Score: 0.904 - Recall 0: 0.9569206222576785 - Recall 1: 0.851140456182473\n",
      "Features: 426 - Score: 0.904 - Recall 0: 0.9569206222576785 - Recall 1: 0.851140456182473\n",
      "Features: 427 - Score: 0.904 - Recall 0: 0.9569206222576785 - Recall 1: 0.851140456182473\n",
      "Features: 428 - Score: 0.903 - Recall 0: 0.9517351416035101 - Recall 1: 0.8531412565026011\n",
      "Features: 429 - Score: 0.903 - Recall 0: 0.9517351416035101 - Recall 1: 0.8531412565026011\n",
      "Features: 430 - Score: 0.903 - Recall 0: 0.9517351416035101 - Recall 1: 0.8531412565026011\n",
      "Features: 431 - Score: 0.903 - Recall 0: 0.9517351416035101 - Recall 1: 0.8531412565026011\n",
      "Features: 432 - Score: 0.903 - Recall 0: 0.9517351416035101 - Recall 1: 0.8531412565026011\n",
      "Features: 433 - Score: 0.903 - Recall 0: 0.9517351416035101 - Recall 1: 0.8531412565026011\n",
      "Features: 434 - Score: 0.903 - Recall 0: 0.9517351416035101 - Recall 1: 0.8531412565026011\n",
      "Features: 435 - Score: 0.903 - Recall 0: 0.9517351416035101 - Recall 1: 0.8531412565026011\n",
      "Features: 436 - Score: 0.903 - Recall 0: 0.9517351416035101 - Recall 1: 0.8531412565026011\n",
      "Features: 437 - Score: 0.903 - Recall 0: 0.9565217391304348 - Recall 1: 0.8499399759903962\n",
      "Features: 438 - Score: 0.903 - Recall 0: 0.9565217391304348 - Recall 1: 0.8499399759903962\n",
      "Features: 439 - Score: 0.903 - Recall 0: 0.9565217391304348 - Recall 1: 0.8499399759903962\n",
      "Features: 440 - Score: 0.903 - Recall 0: 0.9565217391304348 - Recall 1: 0.8499399759903962\n",
      "Features: 441 - Score: 0.904 - Recall 0: 0.957718388512166 - Recall 1: 0.8507402961184474\n",
      "Features: 442 - Score: 0.904 - Recall 0: 0.957718388512166 - Recall 1: 0.8507402961184474\n",
      "Features: 443 - Score: 0.904 - Recall 0: 0.957718388512166 - Recall 1: 0.8507402961184474\n",
      "Features: 444 - Score: 0.904 - Recall 0: 0.957718388512166 - Recall 1: 0.8507402961184474\n",
      "Features: 445 - Score: 0.904 - Recall 0: 0.957718388512166 - Recall 1: 0.8507402961184474\n",
      "Features: 446 - Score: 0.904 - Recall 0: 0.957718388512166 - Recall 1: 0.8507402961184474\n",
      "Features: 447 - Score: 0.904 - Recall 0: 0.957718388512166 - Recall 1: 0.8507402961184474\n",
      "Features: 448 - Score: 0.904 - Recall 0: 0.957718388512166 - Recall 1: 0.8507402961184474\n",
      "Features: 449 - Score: 0.904 - Recall 0: 0.957718388512166 - Recall 1: 0.8507402961184474\n",
      "Features: 450 - Score: 0.904 - Recall 0: 0.957718388512166 - Recall 1: 0.8507402961184474\n",
      "Features: 451 - Score: 0.904 - Recall 0: 0.957718388512166 - Recall 1: 0.8507402961184474\n",
      "Features: 452 - Score: 0.904 - Recall 0: 0.957718388512166 - Recall 1: 0.8507402961184474\n",
      "Features: 453 - Score: 0.905 - Recall 0: 0.9569206222576785 - Recall 1: 0.8523409363745498\n",
      "Features: 454 - Score: 0.905 - Recall 0: 0.9569206222576785 - Recall 1: 0.8523409363745498\n",
      "Features: 455 - Score: 0.905 - Recall 0: 0.9569206222576785 - Recall 1: 0.8523409363745498\n",
      "Features: 456 - Score: 0.905 - Recall 0: 0.9569206222576785 - Recall 1: 0.8523409363745498\n",
      "Features: 457 - Score: 0.905 - Recall 0: 0.9569206222576785 - Recall 1: 0.8523409363745498\n",
      "Features: 458 - Score: 0.905 - Recall 0: 0.9569206222576785 - Recall 1: 0.8523409363745498\n",
      "Features: 459 - Score: 0.905 - Recall 0: 0.9569206222576785 - Recall 1: 0.8523409363745498\n",
      "Features: 460 - Score: 0.905 - Recall 0: 0.9569206222576785 - Recall 1: 0.8523409363745498\n",
      "Features: 461 - Score: 0.905 - Recall 0: 0.9569206222576785 - Recall 1: 0.8523409363745498\n",
      "Features: 462 - Score: 0.905 - Recall 0: 0.9569206222576785 - Recall 1: 0.8523409363745498\n",
      "Features: 463 - Score: 0.905 - Recall 0: 0.9569206222576785 - Recall 1: 0.8523409363745498\n",
      "Features: 464 - Score: 0.905 - Recall 0: 0.9569206222576785 - Recall 1: 0.8523409363745498\n",
      "Features: 465 - Score: 0.905 - Recall 0: 0.9569206222576785 - Recall 1: 0.8519407763105242\n",
      "Features: 466 - Score: 0.902 - Recall 0: 0.9545273234942162 - Recall 1: 0.849139655862345\n",
      "Features: 467 - Score: 0.902 - Recall 0: 0.9557239728759473 - Recall 1: 0.8471388555422169\n",
      "Features: 468 - Score: 0.902 - Recall 0: 0.9557239728759473 - Recall 1: 0.8471388555422169\n",
      "Features: 469 - Score: 0.902 - Recall 0: 0.9557239728759473 - Recall 1: 0.8471388555422169\n",
      "Features: 470 - Score: 0.901 - Recall 0: 0.9553250897487037 - Recall 1: 0.8467386954781913\n",
      "Features: 471 - Score: 0.901 - Recall 0: 0.9553250897487037 - Recall 1: 0.8467386954781913\n",
      "Features: 472 - Score: 0.901 - Recall 0: 0.9553250897487037 - Recall 1: 0.8467386954781913\n",
      "Features: 473 - Score: 0.901 - Recall 0: 0.9553250897487037 - Recall 1: 0.8467386954781913\n",
      "Features: 474 - Score: 0.901 - Recall 0: 0.9553250897487037 - Recall 1: 0.8467386954781913\n",
      "Features: 475 - Score: 0.901 - Recall 0: 0.9553250897487037 - Recall 1: 0.8467386954781913\n",
      "Features: 476 - Score: 0.901 - Recall 0: 0.9553250897487037 - Recall 1: 0.8467386954781913\n",
      "Features: 477 - Score: 0.901 - Recall 0: 0.9541284403669725 - Recall 1: 0.8479391756702681\n",
      "Features: 478 - Score: 0.901 - Recall 0: 0.9541284403669725 - Recall 1: 0.8479391756702681\n",
      "Features: 479 - Score: 0.903 - Recall 0: 0.9557239728759473 - Recall 1: 0.849139655862345\n",
      "Features: 480 - Score: 0.903 - Recall 0: 0.9557239728759473 - Recall 1: 0.849139655862345\n",
      "Features: 481 - Score: 0.903 - Recall 0: 0.9557239728759473 - Recall 1: 0.849139655862345\n",
      "Features: 482 - Score: 0.903 - Recall 0: 0.9557239728759473 - Recall 1: 0.849139655862345\n",
      "Features: 483 - Score: 0.903 - Recall 0: 0.9557239728759473 - Recall 1: 0.849139655862345\n",
      "Features: 484 - Score: 0.903 - Recall 0: 0.9557239728759473 - Recall 1: 0.849139655862345\n",
      "Features: 485 - Score: 0.902 - Recall 0: 0.9553250897487037 - Recall 1: 0.8483393357342938\n",
      "Features: 486 - Score: 0.902 - Recall 0: 0.9553250897487037 - Recall 1: 0.8483393357342938\n",
      "Features: 487 - Score: 0.902 - Recall 0: 0.9553250897487037 - Recall 1: 0.8483393357342938\n",
      "Features: 488 - Score: 0.902 - Recall 0: 0.9553250897487037 - Recall 1: 0.8483393357342938\n",
      "Features: 489 - Score: 0.902 - Recall 0: 0.9553250897487037 - Recall 1: 0.8483393357342938\n",
      "Features: 490 - Score: 0.902 - Recall 0: 0.9553250897487037 - Recall 1: 0.8483393357342938\n",
      "Features: 491 - Score: 0.902 - Recall 0: 0.9553250897487037 - Recall 1: 0.8483393357342938\n",
      "Features: 492 - Score: 0.902 - Recall 0: 0.9553250897487037 - Recall 1: 0.8483393357342938\n",
      "Features: 493 - Score: 0.902 - Recall 0: 0.9553250897487037 - Recall 1: 0.8483393357342938\n",
      "Features: 494 - Score: 0.902 - Recall 0: 0.9553250897487037 - Recall 1: 0.8483393357342938\n",
      "Features: 495 - Score: 0.902 - Recall 0: 0.9553250897487037 - Recall 1: 0.8483393357342938\n",
      "Features: 496 - Score: 0.902 - Recall 0: 0.9553250897487037 - Recall 1: 0.8483393357342938\n"
     ]
    }
   ],
   "source": [
    "f_importances = []\n",
    "n_features = []\n",
    "features_names = []\n",
    "score = []\n",
    "recall_0 = []\n",
    "recall_1 = []\n",
    "predicao = []\n",
    "x_teste = []\n",
    "\n",
    "for i in range(10,len(new_x.columns)):\n",
    "    \n",
    "    r = best_features(i, new_x, y)\n",
    "    f_importances.append(r[0])\n",
    "    n_features.append(r[1])\n",
    "    features_names.append([r[2]])\n",
    "    score.append(r[3])\n",
    "    recall_0.append(r[4])\n",
    "    recall_1.append(r[5])\n",
    "    predicao.append(r[6])\n",
    "    x_teste.append(r[7])    \n",
    "    \n",
    "    print('Features: ' + str(r[1]) + ' - Score: ' + str(r[3].round(3)) + ' - Recall 0: ' + str(r[4]) + ' - Recall 1: ' + str(r[5]))"
   ]
  },
  {
   "cell_type": "code",
   "execution_count": null,
   "id": "24832dac-64da-4270-b2e6-aeb95e295242",
   "metadata": {},
   "outputs": [],
   "source": []
  }
 ],
 "metadata": {
  "kernelspec": {
   "display_name": "Python 3 (ipykernel)",
   "language": "python",
   "name": "python3"
  },
  "language_info": {
   "codemirror_mode": {
    "name": "ipython",
    "version": 3
   },
   "file_extension": ".py",
   "mimetype": "text/x-python",
   "name": "python",
   "nbconvert_exporter": "python",
   "pygments_lexer": "ipython3",
   "version": "3.10.12"
  }
 },
 "nbformat": 4,
 "nbformat_minor": 5
}
